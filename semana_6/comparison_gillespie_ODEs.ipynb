{
 "cells": [
  {
   "attachments": {},
   "cell_type": "markdown",
   "metadata": {},
   "source": [
    "# Imports"
   ]
  },
  {
   "cell_type": "code",
   "execution_count": 173,
   "metadata": {},
   "outputs": [],
   "source": [
    "import numpy as np\n",
    "import matplotlib.pyplot as plt\n",
    "from tqdm import tqdm\n",
    "from numba import jit,njit,float64,int32\n",
    "import numba as nb\n",
    "import pandas as pd\n",
    "import scipy.stats\n",
    "import math"
   ]
  },
  {
   "attachments": {},
   "cell_type": "markdown",
   "metadata": {},
   "source": [
    "# Parameters\n"
   ]
  },
  {
   "cell_type": "code",
   "execution_count": 184,
   "metadata": {},
   "outputs": [],
   "source": [
    "tiempo_vida_inicial = 0\n",
    "tiempo_vida_maximo = 150            #Para que los resultados obtenidos se encuentren ligados a realidad biologica\n",
    "pasos_integracion = 150             #Definicion de los pasos de integracion de algoritmo\n",
    "alpha_damage_propagation = 0.062    #Tasa de propagacion de daño\n",
    "coupling_factor = 0.089             #Factor de acoplamiento entre frailty index y gompertz\n",
    "mortality_rate = 4.3*(10**(-2))     #Tasa de mortalidad"
   ]
  },
  {
   "attachments": {},
   "cell_type": "markdown",
   "metadata": {},
   "source": [
    "# Functions"
   ]
  },
  {
   "cell_type": "code",
   "execution_count": 185,
   "metadata": {},
   "outputs": [],
   "source": [
    "def f(x, alpha_damage_propagation, disease_rate, t=None):\n",
    "    return (1-x)*(alpha_damage_propagation*x + disease_rate)"
   ]
  },
  {
   "cell_type": "code",
   "execution_count": 186,
   "metadata": {},
   "outputs": [],
   "source": [
    "def Runke_Kutta_Method(temporal_evolution:list, disease_rate):\n",
    "    x = 0.0002                                         #Initial condition     \n",
    "    frailty_index = np.empty((len(temporal_evolution)))\n",
    "    for index, t in enumerate(temporal_evolution):\n",
    "        frailty_index[index] = x\n",
    "        k1 = h*f(x, alpha_damage_propagation, disease_rate, t=t)\n",
    "        k2 = h*f(x+0.5*k1, alpha_damage_propagation, disease_rate, t=t +0.5*h)\n",
    "        x += k2\n",
    "\n",
    "    gompertz_law = mortality_rate*(frailty_index**(coupling_factor/alpha_damage_propagation))\n",
    "    return frailty_index, gompertz_law, temporal_evolution"
   ]
  },
  {
   "cell_type": "code",
   "execution_count": 187,
   "metadata": {},
   "outputs": [],
   "source": [
    "@njit()\n",
    "def Gillespie(trp0,tmax, N_total, disease_rate):\n",
    "    \"\"\"\n",
    "    Esta funcion se emplea solamente para hacer la evolución de un paso individual en la celula. Evoluciona no un paso temporal, \n",
    "    pero si temporalmente la cantidad de veces que pueda evolucionar antes del tmax en una corrida\n",
    "    \"\"\"\n",
    "    t,N, died =trp0 \n",
    "    while t < tmax and not died :\n",
    "        s_1 =  ((N_total-N)/(N_total))*(alpha_damage_propagation*N + disease_rate*N_total)\n",
    "        s_2 = mortality_rate*((N/N_total)**(coupling_factor/alpha_damage_propagation))\n",
    "        S_T = s_1 + s_2 \n",
    "\n",
    "        τ = (-1/S_T)*np.log(np.random.rand())\n",
    "        x = np.random.rand()\n",
    "        if x <= (s_1)/S_T:\n",
    "            N += 1\n",
    "        else: \n",
    "            died = True\n",
    "            break\n",
    "        t+=τ\n",
    "    return np.array([t,N, died]) \n",
    "@njit()\n",
    "def Estado_celula(X0,tiempos, N_total, disease_rate):\n",
    "    X = np.empty((len(tiempos),len(X0)))\n",
    "    X[:] = np.nan\n",
    "    X[0] = X0\n",
    "\n",
    "    for i in range(1,len(tiempos)):\n",
    "        X[i] = Gillespie(X[i-1],tiempos[i], N_total, disease_rate)\n",
    "        if X[i][2]:\n",
    "            break\n",
    "    return X"
   ]
  },
  {
   "attachments": {},
   "cell_type": "markdown",
   "metadata": {},
   "source": [
    "# Implementation"
   ]
  },
  {
   "cell_type": "code",
   "execution_count": 188,
   "metadata": {},
   "outputs": [],
   "source": [
    "disease_rate = 0.0002\n",
    "N_total_nodes = [10000]"
   ]
  },
  {
   "cell_type": "code",
   "execution_count": 189,
   "metadata": {},
   "outputs": [],
   "source": [
    "h = (tiempo_vida_maximo-tiempo_vida_inicial)/pasos_integracion                                         #Pasos de integracion\n",
    "temporal_evolution = np.arange(tiempo_vida_inicial,tiempo_vida_maximo,h) \n",
    "frailty_index_differential_equation,gompertz_law_differential_equation,temporal_evolution_differential_equation = Runke_Kutta_Method(temporal_evolution, disease_rate)\n"
   ]
  },
  {
   "cell_type": "code",
   "execution_count": 190,
   "metadata": {},
   "outputs": [
    {
     "name": "stderr",
     "output_type": "stream",
     "text": [
      "100%|██████████| 100000/100000 [01:39<00:00, 1000.74it/s]\n"
     ]
    }
   ],
   "source": [
    "simulaciones_diferentes_nodos = np.empty((len(N_total_nodes)), dtype = object)\n",
    "\n",
    "for index, N_node in enumerate(N_total_nodes):\n",
    "    x0 = np.array([0., 2., False])\n",
    "    num_cel = 1*(10**5) #Cantidad de personas que se estan simulando\n",
    "    celulas = np.array([Estado_celula(x0,np.arange(0.,tiempo_vida_maximo,1.), N_node,disease_rate ) for i in tqdm(range(num_cel))])\n",
    "    simulaciones_diferentes_nodos[index] = celulas\n"
   ]
  },
  {
   "cell_type": "code",
   "execution_count": 191,
   "metadata": {},
   "outputs": [
    {
     "name": "stderr",
     "output_type": "stream",
     "text": [
      "100%|██████████| 150/150 [00:00<00:00, 427.99it/s]\n"
     ]
    }
   ],
   "source": [
    "#N_total_nodes = [30, 90, 300, 600, 900, 1800, 2700]\n",
    "\n",
    "promedios_simulaciones = np.empty((len(N_total_nodes)), dtype = object)\n",
    "\n",
    "for index, simulacion_individual in enumerate(simulaciones_diferentes_nodos):\n",
    "\n",
    "    frailty_index_mean_curve= np.zeros((len(celulas[0])))\n",
    "\n",
    "    for i in tqdm(np.arange((len(celulas[0])))):\n",
    "        promedio = np.nanmean(simulaciones_diferentes_nodos[index][:,i,1])/N_total_nodes[index]\n",
    "        frailty_index_mean_curve[i] = promedio\n",
    "    \n",
    "    promedios_simulaciones[index] = frailty_index_mean_curve"
   ]
  },
  {
   "cell_type": "code",
   "execution_count": 192,
   "metadata": {},
   "outputs": [],
   "source": [
    "import csv\n",
    "phenomenological_age = []\n",
    "phenomenological_frailty_index = []\n",
    "with open(\"Phenomenological_data.csv\", 'r') as file:\n",
    "  csvreader = csv.reader(file, delimiter=\",\")\n",
    "  for fila in csvreader:\n",
    "    phenomenological_age.append(float(fila[0]))\n",
    "    phenomenological_frailty_index.append(float(fila[1]))\n",
    "\n",
    "frailty_index_data_age = []\n",
    "frailty_index_data_index = []\n",
    "with open(\"frailty_index_data_GNM.csv\", 'r') as file:\n",
    "  csvreader = csv.reader(file, delimiter=\",\")\n",
    "  for fila in csvreader:\n",
    "    frailty_index_data_age.append(float(fila[0]))\n",
    "    frailty_index_data_index.append(float(fila[1]))"
   ]
  },
  {
   "cell_type": "code",
   "execution_count": 193,
   "metadata": {},
   "outputs": [
    {
     "data": {
      "image/png": "[encoded data removed]",
      "text/plain": [
       "<Figure size 720x504 with 1 Axes>"
      ]
     },
     "metadata": {
      "needs_background": "light"
     },
     "output_type": "display_data"
    }
   ],
   "source": [
    "colors = [\"red\", \"yellow\", \"orange\", \"red\", \"blue\", \"black\", \"purple\"]\n",
    "\n",
    "plt.figure(figsize = (10,7))\n",
    "plt.plot(temporal_evolution_differential_equation[0:110], frailty_index_differential_equation[0:110], label = \"ODEs solution\")\n",
    "plt.plot(frailty_index_data_age[0:110], frailty_index_data_index[0:110], label = \"model GNM\", color = \"green\")\n",
    "plt.scatter(phenomenological_age, phenomenological_frailty_index, color = \"black\", label = \"observacional\")\n",
    "for i in range(len(promedios_simulaciones)):\n",
    "    plt.plot(temporal_evolution_differential_equation[0:110] ,promedios_simulaciones[i][0:110], label = f\"SM Solution #N: {N_total_nodes[i]}\", linestyle = \"--\", color = colors[i])\n",
    "\n",
    "\n",
    "plt.title(rf\"Comparison ODEs GNM SM Phenomenological Data\" , fontsize =16)\n",
    "plt.xlabel(r\"Age [Years]\", fontsize =16)\n",
    "plt.ylabel(r\"Frailty Index\", fontsize =16)\n",
    "plt.legend()\n",
    "plt.savefig(\"Frailty_index_comportamiento_diferente_D.jpg\", dpi = 500)\n",
    "#plt.savefig(\"General_Comparison_Frailty_index.jpg\", dpi = 500)"
   ]
  },
  {
   "attachments": {},
   "cell_type": "markdown",
   "metadata": {},
   "source": [
    "# Mortality Rate"
   ]
  },
  {
   "cell_type": "code",
   "execution_count": 194,
   "metadata": {},
   "outputs": [],
   "source": [
    "listado = []\n",
    "suma = 0\n",
    "for i in range(150):\n",
    "    listado.append(suma)\n",
    "    muertos = (np.nansum(simulaciones_diferentes_nodos[0][:,i,2]))\n",
    "    suma += muertos"
   ]
  },
  {
   "cell_type": "code",
   "execution_count": 195,
   "metadata": {},
   "outputs": [
    {
     "data": {
      "text/plain": [
       "(100000, 150, 3)"
      ]
     },
     "execution_count": 195,
     "metadata": {},
     "output_type": "execute_result"
    }
   ],
   "source": [
    "simulaciones_diferentes_nodos[0].shape"
   ]
  },
  {
   "cell_type": "code",
   "execution_count": 196,
   "metadata": {},
   "outputs": [
    {
     "name": "stdout",
     "output_type": "stream",
     "text": [
      "87373.0\n"
     ]
    }
   ],
   "source": [
    "print(listado[-1])\n",
    "listado = np.array(listado)\n",
    "listado = listado/num_cel"
   ]
  },
  {
   "cell_type": "code",
   "execution_count": 198,
   "metadata": {},
   "outputs": [
    {
     "name": "stderr",
     "output_type": "stream",
     "text": [
      "/var/folders/b8/c7tcpgms33l8z7x93t10121w0000gn/T/ipykernel_26775/773747062.py:1: RuntimeWarning: divide by zero encountered in log10\n",
      "  mortality_rate = np.log10(listado)\n"
     ]
    },
    {
     "data": {
      "text/plain": [
       "[<matplotlib.lines.Line2D at 0x7ff5bb21f1f0>]"
      ]
     },
     "execution_count": 198,
     "metadata": {},
     "output_type": "execute_result"
    },
    {
     "data": {
      "image/png": "[encoded data removed]",
      "text/plain": [
       "<Figure size 432x288 with 1 Axes>"
      ]
     },
     "metadata": {
      "needs_background": "light"
     },
     "output_type": "display_data"
    }
   ],
   "source": [
    "mortality_rate = np.log10(listado)\n",
    "plt.plot(mortality_rate[0:120])"
   ]
  },
  {
   "attachments": {},
   "cell_type": "markdown",
   "metadata": {},
   "source": [
    "# Experiments"
   ]
  },
  {
   "cell_type": "code",
   "execution_count": 100,
   "metadata": {},
   "outputs": [],
   "source": [
    "N_total_steps = [50, 100,250, 500,1000,2500, 5000, 10000]\n",
    "condicion_inicial = [1.,2.,5., 10., 20., 50., 100., 200.]\n",
    "disease_rate_steps = [0.00025, 0.0005, 0.001]\n",
    "simulaciones_gillespie_frailty = np.empty((len(N_total_steps),len(disease_rate_steps)), dtype=object)\n",
    "solucion_numerica_differential_equations = np.empty((len(N_total_steps)), dtype=object)\n"
   ]
  },
  {
   "cell_type": "code",
   "execution_count": 105,
   "metadata": {},
   "outputs": [],
   "source": [
    "h = (tiempo_vida_maximo-tiempo_vida_inicial)/pasos_integracion                                         #Pasos de integracion\n",
    "temporal_evolution = np.arange(tiempo_vida_inicial,tiempo_vida_maximo,h) \n",
    "\n",
    "for idx_D, D in enumerate(disease_rate_steps):\n",
    "    frailty_index_differential_equation,gompertz_law_differential_equation,temporal_evolution_differential_equation = Runke_Kutta_Method(temporal_evolution, D)\n",
    "    solucion_numerica_differential_equations[idx_D] = frailty_index_differential_equation"
   ]
  },
  {
   "cell_type": "code",
   "execution_count": 101,
   "metadata": {},
   "outputs": [
    {
     "name": "stderr",
     "output_type": "stream",
     "text": [
      "\n",
      "\u001b[A\n",
      "\u001b[A\n",
      "\u001b[A\n",
      "\u001b[A\n",
      "\u001b[A\n",
      "\u001b[A\n",
      "\u001b[A\n",
      "\u001b[A\n",
      "100%|██████████| 8/8 [04:26<00:00, 33.30s/it]\n",
      "\n",
      "\u001b[A\n",
      "\u001b[A\n",
      "\u001b[A\n",
      "\u001b[A\n",
      "\u001b[A\n",
      "\u001b[A\n",
      "\u001b[A\n",
      "\u001b[A\n",
      "100%|██████████| 8/8 [04:26<00:00, 33.33s/it]\n",
      "\n",
      "\u001b[A\n",
      "\u001b[A\n",
      "\u001b[A\n",
      "\u001b[A\n",
      "\u001b[A\n",
      "\u001b[A\n",
      "\u001b[A\n",
      "\u001b[A\n",
      "100%|██████████| 8/8 [04:26<00:00, 33.37s/it]\n"
     ]
    }
   ],
   "source": [
    "h = (tiempo_vida_maximo-tiempo_vida_inicial)/pasos_integracion                                         #Pasos de integracion\n",
    "temporal_evolution = np.arange(tiempo_vida_inicial,tiempo_vida_maximo,h) \n",
    "\n",
    "for idx_D, D in enumerate(disease_rate_steps):\n",
    "    frailty_index_differential_equation,gompertz_law_differential_equation,temporal_evolution_differential_equation = Runke_Kutta_Method(temporal_evolution, D)\n",
    "    solucion_numerica_differential_equations[idx_D] = frailty_index_differential_equation\n",
    "    for idx_N, N in enumerate(tqdm(N_total_steps)):\n",
    "        x0 = np.array([0., condicion_inicial[idx_N], False])\n",
    "        num_cel = 1*(10**5) #Cantidad de personas que se estan simulando\n",
    "        celulas = np.array([Estado_celula(x0,np.arange(0.,tiempo_vida_maximo,1.), N,D ) for i in range(num_cel)])\n",
    "        simulaciones_gillespie_frailty[idx_N][idx_D] = celulas"
   ]
  },
  {
   "cell_type": "code",
   "execution_count": 102,
   "metadata": {},
   "outputs": [
    {
     "name": "stderr",
     "output_type": "stream",
     "text": [
      "\n",
      "\u001b[A\n",
      "\u001b[A\n",
      "\u001b[A\n",
      "\u001b[A\n",
      "\u001b[A\n",
      "\u001b[A\n",
      "\u001b[A\n",
      "\u001b[A\n",
      "100%|██████████| 8/8 [00:28<00:00,  3.54s/it]\n"
     ]
    }
   ],
   "source": [
    "average_curves = np.empty((len(N_total_steps),len(disease_rate_steps)), dtype=object)\n",
    "for i in tqdm(np.arange((len(simulaciones_gillespie_frailty)))):\n",
    "    for j in np.arange((len(simulaciones_gillespie_frailty[0]))):\n",
    "        datos = simulaciones_gillespie_frailty[i][j]\n",
    "        average = np.zeros((len(datos[0])))\n",
    "        for k in range(len(datos[0])):\n",
    "            promedio = np.nanmean(simulaciones_gillespie_frailty[i][j][:,k,1])/N_total_steps[i]\n",
    "            average[k] = promedio\n",
    "        average_curves[i][j] = average"
   ]
  },
  {
   "cell_type": "code",
   "execution_count": 1,
   "metadata": {},
   "outputs": [
    {
     "ename": "NameError",
     "evalue": "name 'average_curves' is not defined",
     "output_type": "error",
     "traceback": [
      "\u001b[0;31m---------------------------------------------------------------------------\u001b[0m",
      "\u001b[0;31mNameError\u001b[0m                                 Traceback (most recent call last)",
      "\u001b[0;32m/var/folders/b8/c7tcpgms33l8z7x93t10121w0000gn/T/ipykernel_26086/2436133594.py\u001b[0m in \u001b[0;36m<module>\u001b[0;34m\u001b[0m\n\u001b[1;32m      1\u001b[0m \u001b[0mcolors\u001b[0m \u001b[0;34m=\u001b[0m \u001b[0;34m[\u001b[0m\u001b[0;34m\"blue\"\u001b[0m\u001b[0;34m,\u001b[0m \u001b[0;34m\"orange\"\u001b[0m\u001b[0;34m,\u001b[0m \u001b[0;34m\"brown\"\u001b[0m\u001b[0;34m,\u001b[0m \u001b[0;34m\"green\"\u001b[0m\u001b[0;34m,\u001b[0m \u001b[0;34m\"red\"\u001b[0m\u001b[0;34m,\u001b[0m \u001b[0;34m\"blue\"\u001b[0m\u001b[0;34m,\u001b[0m \u001b[0;34m\"black\"\u001b[0m\u001b[0;34m,\u001b[0m \u001b[0;34m\"green\"\u001b[0m\u001b[0;34m]\u001b[0m\u001b[0;34m\u001b[0m\u001b[0;34m\u001b[0m\u001b[0m\n\u001b[0;32m----> 2\u001b[0;31m \u001b[0;32mfor\u001b[0m \u001b[0mj\u001b[0m \u001b[0;32min\u001b[0m \u001b[0mrange\u001b[0m\u001b[0;34m(\u001b[0m\u001b[0mlen\u001b[0m\u001b[0;34m(\u001b[0m\u001b[0maverage_curves\u001b[0m\u001b[0;34m[\u001b[0m\u001b[0;36m0\u001b[0m\u001b[0;34m]\u001b[0m\u001b[0;34m)\u001b[0m\u001b[0;34m)\u001b[0m\u001b[0;34m:\u001b[0m\u001b[0;34m\u001b[0m\u001b[0;34m\u001b[0m\u001b[0m\n\u001b[0m\u001b[1;32m      3\u001b[0m     \u001b[0mpromedios_simulaciones\u001b[0m \u001b[0;34m=\u001b[0m \u001b[0maverage_curves\u001b[0m\u001b[0;34m[\u001b[0m\u001b[0;34m:\u001b[0m\u001b[0;34m,\u001b[0m \u001b[0mj\u001b[0m\u001b[0;34m]\u001b[0m\u001b[0;34m\u001b[0m\u001b[0;34m\u001b[0m\u001b[0m\n\u001b[1;32m      4\u001b[0m     \u001b[0mfig\u001b[0m\u001b[0;34m,\u001b[0m \u001b[0max\u001b[0m \u001b[0;34m=\u001b[0m \u001b[0mplt\u001b[0m\u001b[0;34m.\u001b[0m\u001b[0msubplots\u001b[0m\u001b[0;34m(\u001b[0m\u001b[0mfigsize\u001b[0m \u001b[0;34m=\u001b[0m \u001b[0;34m(\u001b[0m\u001b[0;36m12\u001b[0m\u001b[0;34m,\u001b[0m\u001b[0;36m9\u001b[0m\u001b[0;34m)\u001b[0m\u001b[0;34m)\u001b[0m\u001b[0;34m\u001b[0m\u001b[0;34m\u001b[0m\u001b[0m\n\u001b[1;32m      5\u001b[0m     \u001b[0mzoom_region\u001b[0m \u001b[0;34m=\u001b[0m \u001b[0;34m[\u001b[0m\u001b[0;36m0.65\u001b[0m\u001b[0;34m,\u001b[0m \u001b[0;36m0.2\u001b[0m\u001b[0;34m,\u001b[0m \u001b[0;36m0.25\u001b[0m\u001b[0;34m,\u001b[0m \u001b[0;36m0.25\u001b[0m\u001b[0;34m]\u001b[0m\u001b[0;34m\u001b[0m\u001b[0;34m\u001b[0m\u001b[0m\n",
      "\u001b[0;31mNameError\u001b[0m: name 'average_curves' is not defined"
     ]
    }
   ],
   "source": [
    "colors = [\"blue\", \"orange\", \"brown\", \"green\", \"red\", \"blue\", \"black\", \"green\"]\n",
    "for j in range(len(average_curves[0])):\n",
    "    promedios_simulaciones = average_curves[:, j]\n",
    "    fig, ax = plt.subplots(figsize = (12,9))\n",
    "    zoom_region = [0.65, 0.2, 0.25, 0.25]\n",
    "    ax_zoom = plt.axes(zoom_region)\n",
    "    ax.plot(temporal_evolution_differential_equation, solucion_numerica_differential_equations[j], label = \"ODEs solution\")\n",
    "    for i in range(len(promedios_simulaciones)):\n",
    "        ax.plot(temporal_evolution_differential_equation, promedios_simulaciones[i], label = f\"SM Solution #N: {N_total_steps[i]}\", linestyle = \"--\", color = colors[i])\n",
    "        ax_zoom.plot(temporal_evolution_differential_equation[110:120], promedios_simulaciones[i][110:120], label = f\"SM Solution #N: {N_total_steps[i]}\", linestyle = \"--\", color = colors[i])\n",
    "    ax.set_title(rf\"Frailty Index vs Age | Different # of N| D : {disease_rate_steps[j]}\" , fontsize =16)\n",
    "    ax.set_xlabel(r\"Age [Years]\", fontsize =16)\n",
    "    ax.set_ylabel(r\"Frailty Index\", fontsize =16)\n",
    "    ax.legend()\n",
    "    #plt.savefig(f\"Frailty_index_different_number_nodes_D_{disease_rate_steps[j]}.jpg\", dpi = 500)"
   ]
  },
  {
   "cell_type": "code",
   "execution_count": null,
   "metadata": {},
   "outputs": [],
   "source": [
    "gompertz_individual = mortality_rate*(x_individual_points**(beta/alpha))"
   ]
  }
 ],
 "metadata": {
  "kernelspec": {
   "display_name": "base",
   "language": "python",
   "name": "python3"
  },
  "language_info": {
   "codemirror_mode": {
    "name": "ipython",
    "version": 3
   },
   "file_extension": ".py",
   "mimetype": "text/x-python",
   "name": "python",
   "nbconvert_exporter": "python",
   "pygments_lexer": "ipython3",
   "version": "3.9.7"
  },
  "orig_nbformat": 4,
  "vscode": {
   "interpreter": {
    "hash": "6bab567639283c4b3d22d2753e8a097080e05a5a079488862022a8a434ea5858"
   }
  }
 },
 "nbformat": 4,
 "nbformat_minor": 2
}
