{
 "cells": [
  {
   "attachments": {},
   "cell_type": "markdown",
   "metadata": {},
   "source": [
    "# Imports"
   ]
  },
  {
   "cell_type": "code",
   "execution_count": 7,
   "metadata": {},
   "outputs": [],
   "source": [
    "import numpy as np\n",
    "import matplotlib.pyplot as plt\n",
    "from tqdm import tqdm\n",
    "from numba import jit,njit,float64,int32\n",
    "import numba as nb\n",
    "import pandas as pd\n",
    "import scipy.stats"
   ]
  },
  {
   "attachments": {},
   "cell_type": "markdown",
   "metadata": {},
   "source": [
    "# Parameters"
   ]
  },
  {
   "cell_type": "code",
   "execution_count": 8,
   "metadata": {},
   "outputs": [],
   "source": [
    "tiempo_vida_maximo = 150            #Para que los resultados obtenidos se encuentren ligados a realidad biologica\n",
    "alpha_damage_propagation = 0.062    #Tasa de propagacion de daño\n",
    "coupling_factor = 0.089             #Factor de acoplamiento entre frailty index y gompertz\n",
    "mortality_rate = 4.3*(10**(-4))     #Tasa de mortalidad"
   ]
  },
  {
   "attachments": {},
   "cell_type": "markdown",
   "metadata": {},
   "source": [
    "# Gillespie"
   ]
  },
  {
   "cell_type": "code",
   "execution_count": 9,
   "metadata": {},
   "outputs": [],
   "source": [
    "@njit()\n",
    "def Gillespie(trp0,tmax, N_total, disease_rate):\n",
    "    \"\"\"\n",
    "    Esta funcion se emplea solamente para hacer la evolución de un paso individual en la celula. Evoluciona no un paso temporal, \n",
    "    pero si temporalmente la cantidad de veces que pueda evolucionar antes del tmax en una corrida\n",
    "    \"\"\"\n",
    "    t,N, died =trp0 \n",
    "\n",
    "    while t < tmax and not died :\n",
    "        s_1 =  ((N_total-N)/(N_total))*(alpha_damage_propagation*N + disease_rate*N_total)\n",
    "        s_2 = mortality_rate*((N/N_total)**(coupling_factor/alpha_damage_propagation))\n",
    "        S_T = s_1 + s_2 \n",
    "\n",
    "        τ = (-1/S_T)*np.log(np.random.rand())\n",
    "        x = np.random.rand()\n",
    "\n",
    "        if x <= (s_1)/S_T:\n",
    "            N += 1\n",
    "        else: \n",
    "            died = True\n",
    "            break\n",
    "        t+=τ\n",
    "    return np.array([t,N, died]) \n",
    "@njit()\n",
    "def Estado_celula(X0,tiempos, N_total, disease_rate):\n",
    "    \n",
    "    X = np.empty((len(tiempos),len(X0)))\n",
    "    X[:] = np.nan\n",
    "    X[0] = X0\n",
    "    \n",
    "    for i in range(1,len(tiempos)):\n",
    "        X[i] = Gillespie(X[i-1],tiempos[i], N_total, disease_rate)\n",
    "        if X[i][2]:\n",
    "            break\n",
    "    return X"
   ]
  },
  {
   "attachments": {},
   "cell_type": "markdown",
   "metadata": {},
   "source": [
    "# Experiments"
   ]
  },
  {
   "cell_type": "code",
   "execution_count": 10,
   "metadata": {},
   "outputs": [],
   "source": [
    "N_total_steps = [7,15,30,45,60,75,90]\n",
    "disease_rate_steps = [0.0025, 0.005, 0.01, 0.02, 0.04]\n",
    "simulaciones = np.empty((len(N_total_steps),len(disease_rate_steps)), dtype=object)"
   ]
  },
  {
   "cell_type": "code",
   "execution_count": 32,
   "metadata": {},
   "outputs": [
    {
     "name": "stderr",
     "output_type": "stream",
     "text": [
      "100%|██████████| 7/7 [00:30<00:00,  4.36s/it]\n",
      "100%|██████████| 7/7 [00:27<00:00,  4.00s/it]\n",
      "100%|██████████| 7/7 [00:26<00:00,  3.74s/it]\n",
      "100%|██████████| 7/7 [00:23<00:00,  3.32s/it]\n",
      "100%|██████████| 7/7 [00:20<00:00,  2.90s/it]\n",
      "100%|██████████| 5/5 [02:08<00:00, 25.64s/it]\n"
     ]
    }
   ],
   "source": [
    "for idx_D, D in enumerate(tqdm(disease_rate_steps)):\n",
    "    for idx_N, N in enumerate(tqdm(N_total_steps)):\n",
    "        x0 = np.array([0., 0., False])\n",
    "        num_cel = 1*(10**5) #Cantidad de personas que se estan simulando\n",
    "        celulas = np.array([Estado_celula(x0,np.arange(0.,tiempo_vida_maximo,1.), N,D ) for i in range(num_cel)])\n",
    "        simulaciones[idx_N][idx_D] = celulas"
   ]
  },
  {
   "cell_type": "code",
   "execution_count": 174,
   "metadata": {},
   "outputs": [
    {
     "name": "stderr",
     "output_type": "stream",
     "text": [
      "100%|██████████| 150/150 [03:57<00:00,  1.58s/it]\n"
     ]
    }
   ],
   "source": [
    "curva_promedio_1 = np.zeros((len(simulaciones[6][2][0])))\n",
    "curva_promedio_2 = np.zeros((len(simulaciones[6][2][0])))\n",
    "curva_promedio_3 = np.zeros((len(simulaciones[6][2][0])))\n",
    "curva_promedio_4 = np.zeros((len(simulaciones[6][2][0])))\n",
    "curva_promedio_5 = np.zeros((len(simulaciones[6][2][0])))\n",
    "curva_promedio_6 = np.zeros((len(simulaciones[6][2][0])))\n",
    "curva_promedio_7 = np.zeros((len(simulaciones[6][2][0])))\n",
    "\n",
    "for i in tqdm(np.arange((len(simulaciones[3][0][0])))):\n",
    "    promedio_1 = np.nanmean(simulaciones[0][0][:,i,1])/7\n",
    "    promedio_2 = np.nanmean(simulaciones[1][0][:,i,1])/15\n",
    "    promedio_3 = np.nanmean(simulaciones[2][0][:,i,1])/30\n",
    "    promedio_4 = np.nanmean(simulaciones[3][0][:,i,1])/45\n",
    "    promedio_5 = np.nanmean(simulaciones[4][0][:,i,1])/60\n",
    "    promedio_6 = np.nanmean(simulaciones[5][0][:,i,1])/75\n",
    "    promedio_7 = np.nanmean(simulaciones[6][0][:,i,1])/90\n",
    "\n",
    "    curva_promedio_1[i] = promedio_1\n",
    "    curva_promedio_2[i] = promedio_2\n",
    "    curva_promedio_3[i] = promedio_3\n",
    "    curva_promedio_4[i] = promedio_4\n",
    "    curva_promedio_5[i] = promedio_5\n",
    "    curva_promedio_6[i] = promedio_6\n",
    "    curva_promedio_7[i] = promedio_7\n"
   ]
  },
  {
   "cell_type": "code",
   "execution_count": 171,
   "metadata": {},
   "outputs": [
    {
     "data": {
      "text/plain": [
       "[<matplotlib.lines.Line2D at 0x7f927a308820>]"
      ]
     },
     "execution_count": 171,
     "metadata": {},
     "output_type": "execute_result"
    },
    {
     "data": {
      "image/png": "[encoded data removed]",
      "text/plain": [
       "<Figure size 432x288 with 1 Axes>"
      ]
     },
     "metadata": {
      "needs_background": "light"
     },
     "output_type": "display_data"
    }
   ],
   "source": [
    "plt.figure()\n",
    "plt.plot(curva_promedio_1)\n",
    "plt.plot(curva_promedio_2)\n",
    "plt.plot(curva_promedio_3)\n",
    "plt.plot(curva_promedio_4)\n",
    "plt.plot(curva_promedio_5)\n",
    "plt.plot(curva_promedio_6)\n",
    "plt.plot(curva_promedio_7)"
   ]
  },
  {
   "cell_type": "code",
   "execution_count": 141,
   "metadata": {},
   "outputs": [
    {
     "data": {
      "text/plain": [
       "2.29845"
      ]
     },
     "execution_count": 141,
     "metadata": {},
     "output_type": "execute_result"
    }
   ],
   "source": [
    "np.nanmean(simulaciones[6][0][:,5,1])"
   ]
  },
  {
   "cell_type": "code",
   "execution_count": null,
   "metadata": {},
   "outputs": [],
   "source": []
  }
 ],
 "metadata": {
  "kernelspec": {
   "display_name": "base",
   "language": "python",
   "name": "python3"
  },
  "language_info": {
   "codemirror_mode": {
    "name": "ipython",
    "version": 3
   },
   "file_extension": ".py",
   "mimetype": "text/x-python",
   "name": "python",
   "nbconvert_exporter": "python",
   "pygments_lexer": "ipython3",
   "version": "3.9.7"
  },
  "orig_nbformat": 4,
  "vscode": {
   "interpreter": {
    "hash": "6bab567639283c4b3d22d2753e8a097080e05a5a079488862022a8a434ea5858"
   }
  }
 },
 "nbformat": 4,
 "nbformat_minor": 2
}
