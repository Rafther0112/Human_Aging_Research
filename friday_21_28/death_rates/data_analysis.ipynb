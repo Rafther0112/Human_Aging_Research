{
 "cells": [
  {
   "attachments": {},
   "cell_type": "markdown",
   "metadata": {},
   "source": [
    "# Imports"
   ]
  },
  {
   "cell_type": "code",
   "execution_count": 60,
   "metadata": {},
   "outputs": [],
   "source": [
    "import numpy as np\n",
    "import matplotlib.pyplot as plt\n",
    "from tqdm import tqdm\n",
    "from numba import jit,njit,float64,int32\n",
    "import numba as nb\n",
    "import pandas as pd\n",
    "from derivative import dxdt"
   ]
  },
  {
   "cell_type": "code",
   "execution_count": 62,
   "metadata": {},
   "outputs": [],
   "source": [
    "# Abre el archivo en modo lectura\n",
    "with open('Mx_1x10/AUS.Mx_1x10.txt', 'r') as file:\n",
    "    # Lee la primera línea (encabezado) y divídela en una lista\n",
    "    header = file.readline().strip().split()\n",
    "\n",
    "    # Inicializa listas vacías para almacenar los datos\n",
    "    years = []\n",
    "    ages = []\n",
    "    females = []\n",
    "    males = []\n",
    "    totals = []\n",
    "\n",
    "    row_count = 0\n",
    "    for line in file:\n",
    "        row_count += 1\n",
    "        if row_count == 1:\n",
    "            continue\n",
    "        if row_count == 2:\n",
    "            continue\n",
    "\n",
    "        data = line.strip().split()\n",
    "        years.append((data[0]))\n",
    "\n",
    "        if data[1] == \"110+\":\n",
    "            ages.append(110)\n",
    "        else:\n",
    "            ages.append(float(data[1]))\n",
    "        if data[2] == \".\":\n",
    "            females.append(0)\n",
    "        else:\n",
    "            females.append(float(data[2]))\n",
    "        if data[3] == \".\":\n",
    "            males.append(0)\n",
    "        else:\n",
    "            males.append(float(data[3]))\n",
    "        if data[4] == \".\":\n",
    "            totals.append(0)\n",
    "        else:\n",
    "            totals.append(float(data[4]))\n",
    "\n",
    "years = np.array(years)\n",
    "ages = np.array(ages)\n",
    "females = np.array(females)\n",
    "males = np.array(males)\n",
    "totals = np.array(totals)"
   ]
  },
  {
   "cell_type": "code",
   "execution_count": 65,
   "metadata": {},
   "outputs": [
    {
     "ename": "TypeError",
     "evalue": "unsupported operand type(s) for -: 'numpy.str_' and 'numpy.str_'",
     "output_type": "error",
     "traceback": [
      "\u001b[0;31m---------------------------------------------------------------------------\u001b[0m",
      "\u001b[0;31mTypeError\u001b[0m                                 Traceback (most recent call last)",
      "\u001b[0;32m/var/folders/b8/c7tcpgms33l8z7x93t10121w0000gn/T/ipykernel_57881/2484782239.py\u001b[0m in \u001b[0;36m<module>\u001b[0;34m\u001b[0m\n\u001b[1;32m      1\u001b[0m \u001b[0marray\u001b[0m \u001b[0;34m=\u001b[0m \u001b[0mnp\u001b[0m\u001b[0;34m.\u001b[0m\u001b[0mzeros\u001b[0m\u001b[0;34m(\u001b[0m\u001b[0;34m(\u001b[0m\u001b[0;36m10\u001b[0m \u001b[0;34m,\u001b[0m \u001b[0;36m90\u001b[0m\u001b[0;34m)\u001b[0m\u001b[0;34m)\u001b[0m\u001b[0;34m\u001b[0m\u001b[0;34m\u001b[0m\u001b[0m\n\u001b[1;32m      2\u001b[0m \u001b[0;34m\u001b[0m\u001b[0m\n\u001b[0;32m----> 3\u001b[0;31m \u001b[0;32mfor\u001b[0m \u001b[0mi\u001b[0m \u001b[0;32min\u001b[0m \u001b[0mrange\u001b[0m\u001b[0;34m(\u001b[0m\u001b[0;36m0\u001b[0m\u001b[0;34m,\u001b[0m\u001b[0mnp\u001b[0m\u001b[0;34m.\u001b[0m\u001b[0mabs\u001b[0m\u001b[0;34m(\u001b[0m\u001b[0myears\u001b[0m\u001b[0;34m[\u001b[0m\u001b[0;36m0\u001b[0m\u001b[0;34m]\u001b[0m\u001b[0;34m-\u001b[0m\u001b[0myears\u001b[0m\u001b[0;34m[\u001b[0m\u001b[0;34m-\u001b[0m\u001b[0;36m1\u001b[0m\u001b[0;34m]\u001b[0m\u001b[0;34m)\u001b[0m\u001b[0;34m)\u001b[0m\u001b[0;34m:\u001b[0m\u001b[0;34m\u001b[0m\u001b[0;34m\u001b[0m\u001b[0m\n\u001b[0m\u001b[1;32m      4\u001b[0m     \u001b[0madicional\u001b[0m \u001b[0;34m=\u001b[0m \u001b[0;36m111\u001b[0m\u001b[0;34m*\u001b[0m\u001b[0mi\u001b[0m\u001b[0;34m\u001b[0m\u001b[0;34m\u001b[0m\u001b[0m\n\u001b[1;32m      5\u001b[0m     \u001b[0mrango\u001b[0m \u001b[0;34m=\u001b[0m \u001b[0;34m[\u001b[0m\u001b[0;36m0\u001b[0m\u001b[0;34m+\u001b[0m\u001b[0madicional\u001b[0m\u001b[0;34m,\u001b[0m\u001b[0;36m90\u001b[0m\u001b[0;34m+\u001b[0m\u001b[0madicional\u001b[0m\u001b[0;34m]\u001b[0m\u001b[0;34m\u001b[0m\u001b[0;34m\u001b[0m\u001b[0m\n",
      "\u001b[0;31mTypeError\u001b[0m: unsupported operand type(s) for -: 'numpy.str_' and 'numpy.str_'"
     ]
    }
   ],
   "source": [
    "array = np.zeros((10 , 90))\n",
    "\n",
    "for i in range(0,np.abs(years[0]-years[-1])):\n",
    "    adicional = 111*i\n",
    "    rango = [0+adicional,90+adicional]\n",
    "    data = totals[rango[0]:rango[-1]]\n",
    "\n",
    "    array[i] = data\n"
   ]
  },
  {
   "cell_type": "code",
   "execution_count": 58,
   "metadata": {},
   "outputs": [],
   "source": [
    "column_means = np.mean(array, axis=0)\n"
   ]
  },
  {
   "cell_type": "code",
   "execution_count": 77,
   "metadata": {},
   "outputs": [
    {
     "data": {
      "text/plain": [
       "<matplotlib.collections.PathCollection at 0x7f83202e3c40>"
      ]
     },
     "execution_count": 77,
     "metadata": {},
     "output_type": "execute_result"
    },
    {
     "data": {
      "image/png": "[encoded data removed]",
      "text/plain": [
       "<Figure size 432x288 with 1 Axes>"
      ]
     },
     "metadata": {
      "needs_background": "light"
     },
     "output_type": "display_data"
    }
   ],
   "source": [
    "plt.scatter(ages[5:90], totals[5:90])"
   ]
  },
  {
   "cell_type": "code",
   "execution_count": 83,
   "metadata": {},
   "outputs": [],
   "source": [
    "from scipy.interpolate import CubicSpline\n",
    "\n",
    "interpolacion = CubicSpline(ages[5:90], totals[5:90])"
   ]
  },
  {
   "cell_type": "code",
   "execution_count": 110,
   "metadata": {},
   "outputs": [],
   "source": [
    "edad = np.linspace(5,90,100)"
   ]
  },
  {
   "cell_type": "code",
   "execution_count": 111,
   "metadata": {},
   "outputs": [
    {
     "data": {
      "text/plain": [
       "[<matplotlib.lines.Line2D at 0x7f83541b0250>]"
      ]
     },
     "execution_count": 111,
     "metadata": {},
     "output_type": "execute_result"
    },
    {
     "data": {
      "image/png": "[encoded data removed]",
      "text/plain": [
       "<Figure size 432x288 with 1 Axes>"
      ]
     },
     "metadata": {
      "needs_background": "light"
     },
     "output_type": "display_data"
    }
   ],
   "source": [
    "plt.scatter(ages[5:90], totals[5:90])\n",
    "plt.plot(edad, interpolacion(edad), color = \"red\")"
   ]
  },
  {
   "cell_type": "code",
   "execution_count": 112,
   "metadata": {},
   "outputs": [],
   "source": [
    "datos = interpolacion(edad)\n",
    "derivative_process = dxdt(datos, edad, kind=\"finite_difference\", k=3)\n",
    "beta_values = derivative_process/datos\n",
    "R_values = datos/np.e**(beta_values*edad)\n"
   ]
  },
  {
   "cell_type": "code",
   "execution_count": 113,
   "metadata": {},
   "outputs": [
    {
     "data": {
      "text/plain": [
       "array([ 5.        ,  5.85858586,  6.71717172,  7.57575758,  8.43434343,\n",
       "        9.29292929, 10.15151515, 11.01010101, 11.86868687, 12.72727273,\n",
       "       13.58585859, 14.44444444, 15.3030303 , 16.16161616, 17.02020202,\n",
       "       17.87878788, 18.73737374, 19.5959596 , 20.45454545, 21.31313131,\n",
       "       22.17171717, 23.03030303, 23.88888889, 24.74747475, 25.60606061,\n",
       "       26.46464646, 27.32323232, 28.18181818, 29.04040404, 29.8989899 ,\n",
       "       30.75757576, 31.61616162, 32.47474747, 33.33333333, 34.19191919,\n",
       "       35.05050505, 35.90909091, 36.76767677, 37.62626263, 38.48484848,\n",
       "       39.34343434, 40.2020202 , 41.06060606, 41.91919192, 42.77777778,\n",
       "       43.63636364, 44.49494949, 45.35353535, 46.21212121, 47.07070707,\n",
       "       47.92929293, 48.78787879, 49.64646465, 50.50505051, 51.36363636,\n",
       "       52.22222222, 53.08080808, 53.93939394, 54.7979798 , 55.65656566,\n",
       "       56.51515152, 57.37373737, 58.23232323, 59.09090909, 59.94949495,\n",
       "       60.80808081, 61.66666667, 62.52525253, 63.38383838, 64.24242424,\n",
       "       65.1010101 , 65.95959596, 66.81818182, 67.67676768, 68.53535354,\n",
       "       69.39393939, 70.25252525, 71.11111111, 71.96969697, 72.82828283,\n",
       "       73.68686869, 74.54545455, 75.4040404 , 76.26262626, 77.12121212,\n",
       "       77.97979798, 78.83838384, 79.6969697 , 80.55555556, 81.41414141,\n",
       "       82.27272727, 83.13131313, 83.98989899, 84.84848485, 85.70707071,\n",
       "       86.56565657, 87.42424242, 88.28282828, 89.14141414, 90.        ])"
      ]
     },
     "execution_count": 113,
     "metadata": {},
     "output_type": "execute_result"
    }
   ],
   "source": [
    "edad"
   ]
  },
  {
   "cell_type": "code",
   "execution_count": 114,
   "metadata": {},
   "outputs": [
    {
     "data": {
      "text/plain": [
       "[<matplotlib.lines.Line2D at 0x7f833227fee0>]"
      ]
     },
     "execution_count": 114,
     "metadata": {},
     "output_type": "execute_result"
    },
    {
     "data": {
      "image/png": "[encoded data removed]",
      "text/plain": [
       "<Figure size 432x288 with 1 Axes>"
      ]
     },
     "metadata": {
      "needs_background": "light"
     },
     "output_type": "display_data"
    }
   ],
   "source": [
    "plt.plot(R_values[0:20000])"
   ]
  },
  {
   "cell_type": "code",
   "execution_count": 115,
   "metadata": {},
   "outputs": [
    {
     "data": {
      "text/plain": [
       "[<matplotlib.lines.Line2D at 0x7f8354a6ee80>]"
      ]
     },
     "execution_count": 115,
     "metadata": {},
     "output_type": "execute_result"
    },
    {
     "data": {
      "image/png": "[encoded data removed]",
      "text/plain": [
       "<Figure size 432x288 with 1 Axes>"
      ]
     },
     "metadata": {
      "needs_background": "light"
     },
     "output_type": "display_data"
    }
   ],
   "source": [
    "plt.plot(edad, beta_values)"
   ]
  },
  {
   "cell_type": "code",
   "execution_count": null,
   "metadata": {},
   "outputs": [],
   "source": []
  }
 ],
 "metadata": {
  "kernelspec": {
   "display_name": "base",
   "language": "python",
   "name": "python3"
  },
  "language_info": {
   "codemirror_mode": {
    "name": "ipython",
    "version": 3
   },
   "file_extension": ".py",
   "mimetype": "text/x-python",
   "name": "python",
   "nbconvert_exporter": "python",
   "pygments_lexer": "ipython3",
   "version": "3.9.7"
  },
  "orig_nbformat": 4,
  "vscode": {
   "interpreter": {
    "hash": "6bab567639283c4b3d22d2753e8a097080e05a5a079488862022a8a434ea5858"
   }
  }
 },
 "nbformat": 4,
 "nbformat_minor": 2
}
