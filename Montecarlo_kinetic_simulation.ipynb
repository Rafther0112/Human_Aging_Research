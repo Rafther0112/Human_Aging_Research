{
 "cells": [
  {
   "cell_type": "code",
   "execution_count": null,
   "metadata": {},
   "outputs": [],
   "source": [
    "import numpy as np\n",
    "import matplotlib.pyplot as plt"
   ]
  },
  {
   "cell_type": "code",
   "execution_count": null,
   "metadata": {},
   "outputs": [],
   "source": [
    "import numpy as np\n",
    "import matplotlib.pyplot as plt\n",
    "from tqdm import tqdm\n",
    "\n",
    "from numba import jit,njit,float64,int32\n",
    "import numba as nb\n",
    "import pandas as pd\n",
    "\n",
    "global N_total\n",
    "N_total = 100\n",
    "alpha_damage_propagation = 0.062\n",
    "coupling_factor = 0.089\n",
    "mortality_rate = 4.3*(10**(-4))\n",
    "disease_rate = 0.02\n",
    "\n",
    "#@njit('f8[:](f8[:],f8)')\n",
    "def Gillespie(trp0,tmax):\n",
    "    \"\"\"\n",
    "    Esta funcion se emplea solamente para hacer la evolución de un paso individual en la celula. Evoluciona no un paso temporal, \n",
    "    pero si temporalmente la cantidad de veces que pueda evolucionar antes del tmax en una corrida\n",
    "    \"\"\"\n",
    "    t,N, died =trp0 \n",
    "\n",
    "    while t < tmax and not died :\n",
    "        s_1 =  ((N_total-N)/(N_total**2))*(alpha_damage_propagation*N + disease_rate*N_total)\n",
    "        s_2 = mortality_rate*((N/N_total)**(coupling_factor/alpha_damage_propagation))\n",
    "        S_T = s_1 + s_2 \n",
    "\n",
    "        τ = (-1/S_T)*np.log(np.random.rand())\n",
    "        x = np.random.rand()\n",
    "\n",
    "        if x <= (s_1)/S_T:\n",
    "            N += 1\n",
    "\n",
    "        else: \n",
    "            died = True\n",
    "\n",
    "        t+=τ\n",
    "    return np.array([t,N, died]) \n",
    "\n",
    "#@njit('f8[:,:](f8[:],f8[:])')\n",
    "def Estado_celula(X0,tiempos):\n",
    "\n",
    "    X = np.zeros((len(tiempos),len(X0)))\n",
    "    X[0] = X0\n",
    "    \n",
    "    for i in range(1,len(tiempos)):\n",
    "        X[i] = Gillespie(X[i-1],tiempos[i])\n",
    "        if X[i][2]:\n",
    "            break\n",
    "    return X\n",
    "\n",
    "x0 = np.array([0., 0., False])\n",
    "\n",
    "num_cel = 1*(10**4) #número de células \n",
    "celulas = np.array([Estado_celula(x0,np.arange(0.,50000.,2.)) for i in tqdm(range(num_cel))])"
   ]
  },
  {
   "cell_type": "code",
   "execution_count": null,
   "metadata": {},
   "outputs": [],
   "source": [
    "from mpl_toolkits.axes_grid1.inset_locator import zoomed_inset_axes\n",
    "zoom_region = [0.45, 0.25, 0.4, 0.35]\n",
    "\n",
    "fig, ax = plt.subplots(figsize = (10,7))\n",
    "ax_zoom = plt.axes(zoom_region)\n",
    "for i in range(1,100):\n",
    "    indice = np.argmax(celulas[i][:, 2] == 1)\n",
    "    ax.plot(celulas[i][:indice][:,0]/100, celulas[i][:indice][:,1]/100)\n",
    "    ax_zoom.plot(celulas[i][2700:indice][:,0]/100, celulas[i][2700:indice][:,1]/100)\n",
    "ax.set_xlabel(\"Time [¿YEARS?]\", fontsize = 14)\n",
    "ax.set_ylabel(\"Frailty Index\", fontsize = 14)\n",
    "ax.set_title(\"Frailty Index vs Time\", fontsize = 14)\n",
    "#plt.savefig(\"Gillespie_patterns.jpg\", dpi = 500)\n",
    "plt.show()\n"
   ]
  },
  {
   "attachments": {},
   "cell_type": "markdown",
   "metadata": {},
   "source": [
    "# Estadisticas"
   ]
  },
  {
   "cell_type": "code",
   "execution_count": null,
   "metadata": {},
   "outputs": [],
   "source": [
    "ventana_de_busqueda_1 = np.array([20,25])\n",
    "ventana_de_busqueda_2 = np.array([50,55])\n",
    "ventana_de_busqueda_3 = np.array([70,75])\n",
    "ventana_de_busqueda_4 = np.array([95,100])"
   ]
  },
  {
   "cell_type": "code",
   "execution_count": null,
   "metadata": {},
   "outputs": [],
   "source": [
    "tiempos = []\n",
    "for i in tqdm(range(1,len(celulas))):\n",
    "    indice = np.argmax(celulas[i][:, 2] == 1)\n",
    "    tiempo_muerte = celulas[i][indice,0]\n",
    "    tiempos.append(tiempo_muerte)\n",
    "tiempos = np.array(tiempos)"
   ]
  },
  {
   "cell_type": "code",
   "execution_count": null,
   "metadata": {},
   "outputs": [],
   "source": [
    "plt.hist(tiempos/100, bins = 100)"
   ]
  },
  {
   "cell_type": "code",
   "execution_count": null,
   "metadata": {},
   "outputs": [],
   "source": []
  }
 ],
 "metadata": {
  "kernelspec": {
   "display_name": "base",
   "language": "python",
   "name": "python3"
  },
  "language_info": {
   "codemirror_mode": {
    "name": "ipython",
    "version": 3
   },
   "file_extension": ".py",
   "mimetype": "text/x-python",
   "name": "python",
   "nbconvert_exporter": "python",
   "pygments_lexer": "ipython3",
   "version": "3.9.7"
  },
  "orig_nbformat": 4,
  "vscode": {
   "interpreter": {
    "hash": "6bab567639283c4b3d22d2753e8a097080e05a5a079488862022a8a434ea5858"
   }
  }
 },
 "nbformat": 4,
 "nbformat_minor": 2
}
