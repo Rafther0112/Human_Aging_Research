{
 "cells": [
  {
   "cell_type": "code",
   "execution_count": null,
   "metadata": {},
   "outputs": [],
   "source": [
    "import numpy as np\n",
    "import matplotlib.pyplot as plt\n",
    "from tqdm import tqdm\n",
    "from numba import jit,njit,float64,int32\n",
    "import numba as nb\n",
    "import pandas as pd\n",
    "from derivative import dxdt\n",
    "import pandas as pd"
   ]
  },
  {
   "attachments": {},
   "cell_type": "markdown",
   "metadata": {},
   "source": [
    "# Frailty Index Model"
   ]
  },
  {
   "attachments": {},
   "cell_type": "markdown",
   "metadata": {},
   "source": [
    "# $    \\frac{df}{dt} = (1-f)( d+ \\alpha f)(1+bf) - f\\cdot r \\cdot (1-sf)$\n"
   ]
  },
  {
   "attachments": {},
   "cell_type": "markdown",
   "metadata": {},
   "source": [
    "# Mortality Models"
   ]
  },
  {
   "attachments": {},
   "cell_type": "markdown",
   "metadata": {},
   "source": [
    "# $\\mu = f(t)^c$\n"
   ]
  },
  {
   "cell_type": "code",
   "execution_count": null,
   "metadata": {},
   "outputs": [],
   "source": [
    "import numpy as np\n",
    "from scipy.integrate import odeint\n",
    "import matplotlib.pyplot as plt\n",
    "import ipywidgets as widgets\n",
    "from IPython.display import display\n",
    "\n",
    "def frailty_index_differential_equation(f, t,d, alpha, b, r, s):\n",
    "    dfdt = (1 - f) * (d + alpha*f)*(1 + b * f) - f * r * (1 - s * f)\n",
    "    return dfdt\n",
    "\n",
    "# Time points\n",
    "t = np.linspace(0, 150, 200)  # 100 time steps from 0 to 10\n",
    "\n",
    "# Default initial conditions and parameters\n",
    "f0 = 0.1\n",
    "a = 0.01\n",
    "b = 0.09\n",
    "r = 0.86\n",
    "s = 0.01\n",
    "\n",
    "def update_plot(a, b, r, s, initial_condition):\n",
    "    f_solution = odeint(frailty_index_differential_equation, initial_condition, t, args=(a, b, r, s))\n",
    "\n",
    "    valor_damage_rate = a*(1+b*t)\n",
    "    valor_repair_rate = r*(1-s*t)\n",
    "\n",
    "    c = 1.98\n",
    "    frailty_index = []\n",
    "    for i in f_solution:\n",
    "        frailty_index.append(i[0])\n",
    "    frailty_index = np.array(frailty_index)\n",
    "    gompertz_law_differential_equation = frailty_index**c\n",
    "\n",
    "\n",
    "    file_path = 'Frailty_Phen.csv'\n",
    "\n",
    "    # Read the CSV file\n",
    "    data = pd.read_csv(file_path)\n",
    "\n",
    "    # Access the 'X' and 'Y' columns\n",
    "    x_values = data['X']  # Assuming 'X' is the header of the column for X coordinates\n",
    "    y_values = data['Y']  # Assuming 'Y' is the header of the column for Y coordinates\n",
    "\n",
    "    edad_40_60 = t[40:60]\n",
    "    data_40_60 = gompertz_law_differential_equation[40:60]\n",
    "    derivative_process = dxdt(data_40_60, edad_40_60, kind=\"finite_difference\", k=1)\n",
    "    beta_values_40_60 = derivative_process/data_40_60\n",
    "    R_values_40_60 = data_40_60/np.e**(beta_values_40_60*edad_40_60)\n",
    "\n",
    "\n",
    "    edad_60_80 = t[60:80]\n",
    "    data_60_80 = gompertz_law_differential_equation[60:80]\n",
    "    derivative_process = dxdt(data_60_80, edad_60_80, kind=\"finite_difference\", k=1)\n",
    "    beta_values_60_80 = derivative_process/data_60_80\n",
    "    R_values_60_80 = data_60_80/np.e**(beta_values_60_80*edad_60_80)\n",
    "\n",
    "    fig, (ax1, ax2, ax3, ax4) = plt.subplots(1, 4, figsize=(20, 5))\n",
    "    \n",
    "    ax1.plot(t, f_solution, label='Frailty Index')\n",
    "    ax1.scatter(x_values, y_values, color = \"red\")\n",
    "    ax1.set_xlabel(r'Time')\n",
    "    ax1.set_ylabel(r'Frailty Index')\n",
    "    ax1.set_title(r'Frailty Index')\n",
    "    ax1.legend()\n",
    "    ax1.grid(True)\n",
    "    \n",
    "\n",
    "    ax2.plot(t, valor_damage_rate, color = \"blue\", label = \"Damage Rate\")\n",
    "    ax2.plot(t, valor_repair_rate, color = \"red\", label = \"Repair Rate\")\n",
    "    ax2.set_xlabel(r'Time')\n",
    "    ax2.set_ylabel(r'Rates values')\n",
    "    ax2.set_title(r'Damage and Repair rates vs time')\n",
    "    ax2.legend()\n",
    "    ax2.grid(True)\n",
    "\n",
    "    ax3.plot(t, gompertz_law_differential_equation, color = \"green\")\n",
    "    ax3.set_xlabel(r'Time')\n",
    "    ax3.set_ylabel(r'Gompertz Law')\n",
    "    ax3.set_title(r'Mortality Rate vs time')\n",
    "    ax3.legend()\n",
    "    ax3.set_yscale(\"log\")\n",
    "    ax3.grid(True)\n",
    "    plt.savefig(\"Frailty_Rates_Mortality.jpg\", dpi = 1000)\n",
    "    \n",
    "\n",
    "    ax4.scatter(beta_values_40_60, R_values_40_60, color = \"red\" ,label = \"Ages Window: 40-60\")\n",
    "    ax4.scatter(beta_values_60_80, R_values_60_80, color= \"blue\", marker='*' ,label = \"Ages Window: 60-80\")\n",
    "    ax4.set_title(\"SM Correlation with Model\", fontsize = 16)\n",
    "    ax4.set_xlabel(r\"$\\alpha$ parameter\", fontsize = 14)\n",
    "    ax4.set_ylabel(r\"$Ln(R_0)$ parameter\", fontsize = 14)\n",
    "    ax4.set_yscale(\"log\")\n",
    "    ax4.legend()\n",
    "    ax4.grid(True)\n",
    "\n",
    "    #plt.savefig(\"Frailty_Rates_Mortality.jpg\", dpi = 1000)\n",
    "\n",
    "    fig.tight_layout()\n",
    "\n",
    "\n",
    "\n",
    "# Create sliders for interactive parameter adjustment\n",
    "slider_a = widgets.FloatSlider(value=a, min=0.0, max=1.0, step=0.001, description='a:')\n",
    "slider_b = widgets.FloatSlider(value=b, min=0, max=2, step=0.001, description='b:')\n",
    "slider_r = widgets.FloatSlider(value=r, min=0, max=1, step=0.001, description='r:')\n",
    "slider_s = widgets.FloatSlider(value=s, min=0, max=0.01, step=0.001, description='s:')\n",
    "slider_initial_condition = widgets.FloatSlider(value=f0, min=0, max=1, step=0.1, description='Initial Condition:')\n",
    "\n",
    "# Define the function to be called when sliders are changed\n",
    "def on_value_change(change):\n",
    "    a = slider_a.value\n",
    "    b = slider_b.value\n",
    "    r = slider_r.value\n",
    "    s = slider_s.value\n",
    "    initial_condition = slider_initial_condition.value\n",
    "    update_plot(a, b, r, s, initial_condition)\n",
    "\n",
    "# Attach the function to the slider value change event\n",
    "slider_a.observe(on_value_change, names='value')\n",
    "slider_b.observe(on_value_change, names='value')\n",
    "slider_r.observe(on_value_change, names='value')\n",
    "slider_s.observe(on_value_change, names='value')\n",
    "slider_initial_condition.observe(on_value_change, names='value')"
   ]
  },
  {
   "cell_type": "code",
   "execution_count": null,
   "metadata": {},
   "outputs": [],
   "source": [
    "# Display the interactive plot and sliders\n",
    "display(widgets.VBox([slider_a, slider_b, slider_r, slider_s, slider_initial_condition]))\n",
    "\n",
    "update_plot(a, b, r, s, f0)  # Display the initial plot"
   ]
  }
 ],
 "metadata": {
  "kernelspec": {
   "display_name": "base",
   "language": "python",
   "name": "python3"
  },
  "language_info": {
   "codemirror_mode": {
    "name": "ipython",
    "version": 3
   },
   "file_extension": ".py",
   "mimetype": "text/x-python",
   "name": "python",
   "nbconvert_exporter": "python",
   "pygments_lexer": "ipython3",
   "version": "3.11.4"
  },
  "orig_nbformat": 4,
  "vscode": {
   "interpreter": {
    "hash": "6bab567639283c4b3d22d2753e8a097080e05a5a079488862022a8a434ea5858"
   }
  }
 },
 "nbformat": 4,
 "nbformat_minor": 2
}
