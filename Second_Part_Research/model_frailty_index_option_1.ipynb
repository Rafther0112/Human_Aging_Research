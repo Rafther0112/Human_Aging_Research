{
 "cells": [
  {
   "cell_type": "code",
   "execution_count": 1,
   "metadata": {},
   "outputs": [
    {
     "name": "stdout",
     "output_type": "stream",
     "text": [
      "Intel MKL WARNING: Support of Intel(R) Streaming SIMD Extensions 4.2 (Intel(R) SSE4.2) enabled only processors has been deprecated. Intel oneAPI Math Kernel Library 2025.0 will require Intel(R) Advanced Vector Extensions (Intel(R) AVX) instructions.\n",
      "Intel MKL WARNING: Support of Intel(R) Streaming SIMD Extensions 4.2 (Intel(R) SSE4.2) enabled only processors has been deprecated. Intel oneAPI Math Kernel Library 2025.0 will require Intel(R) Advanced Vector Extensions (Intel(R) AVX) instructions.\n"
     ]
    }
   ],
   "source": [
    "import numpy as np\n",
    "import matplotlib.pyplot as plt\n",
    "from tqdm import tqdm\n",
    "from numba import jit,njit,float64,int32\n",
    "import numba as nb\n",
    "import pandas as pd\n",
    "from derivative import dxdt\n"
   ]
  },
  {
   "attachments": {},
   "cell_type": "markdown",
   "metadata": {},
   "source": [
    "# Frailty Index Model"
   ]
  },
  {
   "attachments": {},
   "cell_type": "markdown",
   "metadata": {},
   "source": [
    "# $\\frac{df}{dt} = (1-f) \\cdot a \\cdot (1+bt) - f(r-st)$"
   ]
  },
  {
   "attachments": {},
   "cell_type": "markdown",
   "metadata": {},
   "source": [
    "# Mortality Models"
   ]
  },
  {
   "attachments": {},
   "cell_type": "markdown",
   "metadata": {},
   "source": [
    "# $\\mu = f(t)^c$\n",
    "\n",
    "# $\\mu = \\mu_0 e^{d\\cdot f}$"
   ]
  },
  {
   "cell_type": "code",
   "execution_count": 206,
   "metadata": {},
   "outputs": [],
   "source": [
    "import numpy as np\n",
    "def frailty_index_differential_equation(f, t, a, b, r, s):\n",
    "    dydt = a*(1-f)*(1+b*t) - f*(r - s*t)\n",
    "    return dydt"
   ]
  },
  {
   "cell_type": "code",
   "execution_count": 207,
   "metadata": {},
   "outputs": [],
   "source": [
    "y0 = 0.0"
   ]
  },
  {
   "cell_type": "code",
   "execution_count": 208,
   "metadata": {},
   "outputs": [],
   "source": [
    "t = np.linspace(0, 100, 101)"
   ]
  },
  {
   "cell_type": "code",
   "execution_count": 209,
   "metadata": {},
   "outputs": [
    {
     "data": {
      "text/plain": [
       "[<matplotlib.lines.Line2D at 0x7fd1b10ba7f0>]"
      ]
     },
     "execution_count": 209,
     "metadata": {},
     "output_type": "execute_result"
    },
    {
     "data": {
      "image/png": "[encoded data removed]",
      "text/plain": [
       "<Figure size 640x480 with 1 Axes>"
      ]
     },
     "metadata": {},
     "output_type": "display_data"
    }
   ],
   "source": [
    "a = 0.0\n",
    "b = 0.0\n",
    "r = 0.0\n",
    "s = 0.0\n",
    "\n",
    "from scipy.integrate import odeint\n",
    "sol = odeint(frailty_index_differential_equation, y0, t, args=(a, b, r, s))\n",
    "plt.plot(t, sol)"
   ]
  },
  {
   "cell_type": "code",
   "execution_count": 210,
   "metadata": {},
   "outputs": [],
   "source": [
    "c = 50\n",
    "frailty_index = []\n",
    "for i in sol:\n",
    "    frailty_index.append(i[0])\n",
    "frailty_index = np.array(frailty_index)\n",
    "gompertz_law_differential_equation = frailty_index**c"
   ]
  },
  {
   "cell_type": "code",
   "execution_count": 211,
   "metadata": {},
   "outputs": [
    {
     "name": "stderr",
     "output_type": "stream",
     "text": [
      "/var/folders/b8/c7tcpgms33l8z7x93t10121w0000gn/T/ipykernel_10085/3834456628.py:9: RuntimeWarning: invalid value encountered in divide\n",
      "  beta_values = derivative_process/data\n"
     ]
    }
   ],
   "source": [
    "parametro_beta = []\n",
    "parametro_R = []\n",
    "\n",
    "\n",
    "\n",
    "data = gompertz_law_differential_equation\n",
    "derivative_process = dxdt(data, t, kind=\"finite_difference\", k=1)\n",
    "\n",
    "beta_values = derivative_process/data\n",
    "R_values = data/np.e**(beta_values*t)\n",
    "\n",
    "parametro_R.append(R_values)\n",
    "parametro_beta.append(beta_values)"
   ]
  },
  {
   "cell_type": "code",
   "execution_count": 212,
   "metadata": {},
   "outputs": [
    {
     "data": {
      "image/png": "[encoded data removed]",
      "text/plain": [
       "<Figure size 640x480 with 1 Axes>"
      ]
     },
     "metadata": {},
     "output_type": "display_data"
    }
   ],
   "source": [
    "plt.scatter(parametro_beta, parametro_R)\n",
    "plt.yscale(\"log\")"
   ]
  },
  {
   "cell_type": "code",
   "execution_count": null,
   "metadata": {},
   "outputs": [],
   "source": []
  }
 ],
 "metadata": {
  "kernelspec": {
   "display_name": "base",
   "language": "python",
   "name": "python3"
  },
  "language_info": {
   "codemirror_mode": {
    "name": "ipython",
    "version": 3
   },
   "file_extension": ".py",
   "mimetype": "text/x-python",
   "name": "python",
   "nbconvert_exporter": "python",
   "pygments_lexer": "ipython3",
   "version": "3.9.18"
  },
  "orig_nbformat": 4,
  "vscode": {
   "interpreter": {
    "hash": "6bab567639283c4b3d22d2753e8a097080e05a5a079488862022a8a434ea5858"
   }
  }
 },
 "nbformat": 4,
 "nbformat_minor": 2
}
