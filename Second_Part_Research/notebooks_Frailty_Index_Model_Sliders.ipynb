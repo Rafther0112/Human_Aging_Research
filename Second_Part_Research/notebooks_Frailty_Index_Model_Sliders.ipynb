{
  "cells": [
    {
      "cell_type": "markdown",
      "metadata": {},
      "source": [
        "# Frailty Index Model"
      ]
    },
    {
      "cell_type": "markdown",
      "metadata": {},
      "source": [
        "# $    \\frac{df}{dt} = (1-f)( d+ \\alpha f) - f\\cdot r \\cdot (1-sf)$"
      ]
    },
    {
      "cell_type": "markdown",
      "metadata": {},
      "source": [
        "# Mortality Models"
      ]
    },
    {
      "cell_type": "markdown",
      "metadata": {},
      "source": [
        "# $\\mu = f(t)^c$"
      ]
    },
    {
      "cell_type": "code",
      "execution_count": null,
      "metadata": {
        "trusted": true
      },
      "outputs": [],
      "source": [
        "#import piplite\n",
        "#await piplite.install([\"numpy\", \"matplotlib\", \"ipywidgets\", \"scipy\"])"
      ]
    },
    {
      "cell_type": "code",
      "execution_count": null,
      "metadata": {
        "trusted": true
      },
      "outputs": [],
      "source": [
        "import numpy as np\n",
        "import matplotlib.pyplot as plt\n",
        "from scipy.integrate import odeint\n",
        "from ipywidgets import interact, widgets\n",
        "\n",
        "#Differential equation for Frailty Index\n",
        "def frailty_index_differential_equation(f, t, d, alpha, r, s):\n",
        "    dfdt = (1 - f) * (d + alpha * f) - f * r * (1 - s * f)\n",
        "    return dfdt\n",
        "\n",
        "#Gompertz Law with power law model\n",
        "def gompertz_law(frailty_index, A, c):\n",
        "    return A * frailty_index**c\n",
        "\n",
        "def plot_frailty_index_and_mortality(initial_condition, d, alpha, r, s, A, c):\n",
        "\n",
        "    # Temporal array\n",
        "    t = np.linspace(0, 100, 1000)\n",
        "\n",
        "    # Numerical solution of differential equation\n",
        "    f_solution = odeint(frailty_index_differential_equation, initial_condition, t, args=(d, alpha, r, s))\n",
        "\n",
        "    \n",
        "    frailty_index = f_solution[:, 0]\n",
        "    mortality_rate = gompertz_law(frailty_index, A, c)\n",
        "\n",
        "    # Plots of the frailty Index and Mortality Rate\n",
        "    fig, (ax1, ax2) = plt.subplots(1, 2, figsize=(12, 5), sharex=True)\n",
        "\n",
        "    # Plot de Frailty Index\n",
        "    ax1.plot(t, frailty_index, label=r'Frailty Index')\n",
        "    ax1.set_xlabel(r'Time [Years]')\n",
        "    ax1.grid(True)\n",
        "    ax1.set_ylabel(r'Frailty Index')\n",
        "    ax1.legend()\n",
        "\n",
        "    # Plot de Mortality Rate\n",
        "    ax2.plot(t, mortality_rate, label=r'Mortality Rate', color='red')\n",
        "    ax2.set_xlabel(r'Time [Years]')\n",
        "    ax2.set_ylabel(r'Mortality Rate')\n",
        "    ax2.legend()\n",
        "    ax2.grid(True)\n",
        "\n",
        "    plt.suptitle(r'Frailty Index and Mortality Rate')\n",
        "    plt.show()\n",
        "\n",
        "# Sliders\n",
        "initial_condition_slider = widgets.FloatSlider(value=0.1, min=0.0, max=1, step=0.01, description='Initial Condition:')\n",
        "d_slider = widgets.FloatSlider(value=0.1, min=0.1, max=1.0, step=0.01, description='d:')\n",
        "alpha_slider = widgets.FloatSlider(value=0.2, min=0.1, max=1.0, step=0.01, description='\\u03B1')\n",
        "r_slider = widgets.FloatSlider(value=0.5, min=0.1, max=1.0, step=0.01, description='r:')\n",
        "s_slider = widgets.FloatSlider(value=0.1, min=0.1, max=1.0, step=0.01, description='s:')\n",
        "A_slider = widgets.FloatSlider(value=1.0, min=0.1, max=5.0, step=0.01, description=\"μ_0\")\n",
        "c_slider = widgets.FloatSlider(value=1.98, min=0.1, max=5.0, step=0.01, description='c:')\n",
        "\n",
        "# Interactive view\n",
        "interact(plot_frailty_index_and_mortality, \n",
        "         initial_condition=initial_condition_slider, \n",
        "         d=d_slider, \n",
        "         alpha=alpha_slider, \n",
        "         r=r_slider, \n",
        "         s=s_slider,\n",
        "         A=A_slider,\n",
        "         c=c_slider)"
      ]
    }
  ],
  "metadata": {
    "kernelspec": {
      "display_name": "base",
      "language": "python",
      "name": "python3"
    },
    "language_info": {
      "codemirror_mode": {
        "name": "ipython",
        "version": 3
      },
      "file_extension": ".py",
      "mimetype": "text/x-python",
      "name": "python",
      "nbconvert_exporter": "python",
      "pygments_lexer": "ipython3",
      "version": "3.11.4"
    }
  },
  "nbformat": 4,
  "nbformat_minor": 4
}
