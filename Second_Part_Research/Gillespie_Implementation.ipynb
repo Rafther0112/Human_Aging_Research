{
 "cells": [
  {
   "cell_type": "code",
   "execution_count": 11,
   "metadata": {},
   "outputs": [],
   "source": [
    "import numpy as np\n",
    "from tqdm import tqdm\n",
    "from numba import jit,njit\n",
    "import pandas as pd\n",
    "import json\n",
    "import matplotlib.pyplot as plt"
   ]
  },
  {
   "cell_type": "code",
   "execution_count": 12,
   "metadata": {},
   "outputs": [],
   "source": [
    "global N_total\n",
    "\n",
    "def damage_Rate(a,b,time):\n",
    "    return a*(1 + b*time)\n",
    "\n",
    "def repair_Rate(r,s,time):\n",
    "    return r*(1 - s*time)\n",
    "\n",
    "def mortality_Rate(mu, C, N_individual):\n",
    "    return mu*(N_individual/N_total)**C\n",
    "\n",
    "def modelo_constitutivo(a,b,r,s, mu, C, time, N_individual):\n",
    "\n",
    "    damare_Rate_propensity = damage_Rate(a,b,time)\n",
    "    Repair_Rate_propensity = repair_Rate(r,s,time)\n",
    "    Mortality_Rate_propensity = mortality_Rate(mu, C, N_individual)\n",
    "    return damare_Rate_propensity, Repair_Rate_propensity, Mortality_Rate_propensity, \n"
   ]
  },
  {
   "cell_type": "code",
   "execution_count": 35,
   "metadata": {},
   "outputs": [
    {
     "name": "stderr",
     "output_type": "stream",
     "text": [
      "100%|██████████| 1000/1000 [00:00<00:00, 3219.69it/s]\n"
     ]
    },
    {
     "data": {
      "text/plain": [
       "[<matplotlib.lines.Line2D at 0x17fabb1d0>]"
      ]
     },
     "execution_count": 35,
     "metadata": {},
     "output_type": "execute_result"
    },
    {
     "data": {
      "image/png": "[encoded data removed]",
      "text/plain": [
       "<Figure size 640x480 with 1 Axes>"
      ]
     },
     "metadata": {},
     "output_type": "display_data"
    }
   ],
   "source": [
    "def Gillespie(trp0,tmax):\n",
    "    \"\"\"\n",
    "    Esta funcion se emplea solamente para hacer la evolución de un paso individual en el individuo. Evoluciona no un paso temporal, \n",
    "    pero si temporalmente la cantidad de veces que pueda evolucionar antes del tmax en una corrida\n",
    "    \"\"\"\n",
    "\n",
    "    time , N_individual, died  =trp0 \n",
    "\n",
    "    a = 0.05\n",
    "    b = 0.09\n",
    "    r = 0.1\n",
    "    s = 0.0\n",
    "    C = 2.87\n",
    "    mu = 1\n",
    "\n",
    "    while time < tmax and not died:\n",
    "        s_1, s_2, s_3  =  modelo_constitutivo(a,b,r,s, mu, C, time, N_individual)\n",
    "        S_T = s_1 + s_2 + s_3 \n",
    "        tasa_maxima = mu + a + r\n",
    "\n",
    "        if np.random.rand() < np.abs(S_T-tasa_maxima)/tasa_maxima:\n",
    "            τ = (-1/tasa_maxima)*np.log(np.random.rand())\n",
    "            x = np.random.rand()\n",
    "            time+=τ\n",
    "\n",
    "            if x <= (s_1)/S_T:\n",
    "                N_individual += 1\n",
    "\n",
    "            elif x<= (s_1 + s_2)/S_T:\n",
    "                N_individual -= 1\n",
    "            \n",
    "            else: \n",
    "                died = True\n",
    "                return np.array([time, N_individual, died ]) \n",
    "        \n",
    "    return np.array([time, N_individual, died ]) \n",
    "\n",
    "def Estado_celula(X0,tiempos):\n",
    "\n",
    "    X = np.zeros((len(tiempos),len(X0)))\n",
    "    X[0] = X0\n",
    "    \n",
    "    for i in range(1,len(tiempos)):\n",
    "        X[i] = Gillespie(X[i-1],tiempos[i])\n",
    "    \n",
    "    return X\n",
    "\n",
    "N_total = 1000\n",
    "x0 = np.array([0., N_total*0.1, 0.])\n",
    "\n",
    "num_cel = 1000 #número de células \n",
    "celulas = np.array([Estado_celula(x0,np.arange(0.,100.,1.)) for i in tqdm(range(num_cel))])\n",
    "\n",
    "suma = np.nansum(celulas[:, :, 1], axis=0)\n",
    "\n",
    "# Calcula la longitud sin contar los NaN\n",
    "longitud_valida = np.sum(~np.isnan(celulas[:, :, 1]), axis=0)\n",
    "\n",
    "# Calcula el promedio ignorando los NaN\n",
    "promedio_curva_frailty_index = np.divide(suma, longitud_valida, out=np.zeros_like(suma), where=longitud_valida != 0)\n",
    "\n",
    "plt.plot(promedio_curva_frailty_index/N_total)\n"
   ]
  }
 ],
 "metadata": {
  "kernelspec": {
   "display_name": "base",
   "language": "python",
   "name": "python3"
  },
  "language_info": {
   "codemirror_mode": {
    "name": "ipython",
    "version": 3
   },
   "file_extension": ".py",
   "mimetype": "text/x-python",
   "name": "python",
   "nbconvert_exporter": "python",
   "pygments_lexer": "ipython3",
   "version": "3.11.4"
  },
  "orig_nbformat": 4
 },
 "nbformat": 4,
 "nbformat_minor": 2
}
