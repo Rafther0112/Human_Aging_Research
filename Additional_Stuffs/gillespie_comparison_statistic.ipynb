{
 "cells": [
  {
   "attachments": {},
   "cell_type": "markdown",
   "metadata": {},
   "source": [
    "# Imports"
   ]
  },
  {
   "cell_type": "code",
   "execution_count": 1,
   "metadata": {},
   "outputs": [],
   "source": [
    "import numpy as np\n",
    "import matplotlib.pyplot as plt\n",
    "from tqdm import tqdm\n",
    "from numba import jit,njit,float64,int32\n",
    "import numba as nb\n",
    "import pandas as pd\n",
    "import scipy.stats"
   ]
  },
  {
   "attachments": {},
   "cell_type": "markdown",
   "metadata": {},
   "source": [
    "# Parameters"
   ]
  },
  {
   "cell_type": "code",
   "execution_count": 30,
   "metadata": {},
   "outputs": [],
   "source": [
    "tiempo_vida_maximo = 150            #Para que los resultados obtenidos se encuentren ligados a realidad biologica\n",
    "alpha_damage_propagation = 0.062    #Tasa de propagacion de daño\n",
    "coupling_factor = 0.089             #Factor de acoplamiento entre frailty index y gompertz\n",
    "mortality_rate = 4.3*(10**(-4))     #Tasa de mortalidad"
   ]
  },
  {
   "attachments": {},
   "cell_type": "markdown",
   "metadata": {},
   "source": [
    "# Gillespie"
   ]
  },
  {
   "cell_type": "code",
   "execution_count": 31,
   "metadata": {},
   "outputs": [],
   "source": [
    "@njit()\n",
    "def Gillespie(trp0,tmax, N_total, disease_rate):\n",
    "    \"\"\"\n",
    "    Esta funcion se emplea solamente para hacer la evolución de un paso individual en la celula. Evoluciona no un paso temporal, \n",
    "    pero si temporalmente la cantidad de veces que pueda evolucionar antes del tmax en una corrida\n",
    "    \"\"\"\n",
    "    t,N, died =trp0 \n",
    "\n",
    "    while t < tmax and not died :\n",
    "        s_1 =  ((N_total-N)/(N_total))*(alpha_damage_propagation*N + disease_rate*N_total)\n",
    "        s_2 = mortality_rate*((N/N_total)**(coupling_factor/alpha_damage_propagation))\n",
    "        S_T = s_1 + s_2 \n",
    "\n",
    "        τ = (-1/S_T)*np.log(np.random.rand())\n",
    "        x = np.random.rand()\n",
    "\n",
    "        if x <= (s_1)/S_T:\n",
    "            N += 1\n",
    "        else: \n",
    "            died = True\n",
    "            break\n",
    "        t+=τ\n",
    "    return np.array([t,N, died]) \n",
    "@njit()\n",
    "def Estado_celula(X0,tiempos, N_total, disease_rate):\n",
    "    \n",
    "    X = np.empty((len(tiempos),len(X0)))\n",
    "    X[:] = np.nan\n",
    "    X[0] = X0\n",
    "    \n",
    "    for i in range(1,len(tiempos)):\n",
    "        X[i] = Gillespie(X[i-1],tiempos[i], N_total, disease_rate)\n",
    "        if X[i][2]:\n",
    "            break\n",
    "    return X"
   ]
  },
  {
   "attachments": {},
   "cell_type": "markdown",
   "metadata": {},
   "source": [
    "# Experiments"
   ]
  },
  {
   "cell_type": "code",
   "execution_count": 33,
   "metadata": {},
   "outputs": [],
   "source": [
    "N_total_steps = [7,15,30,45,60,75,90]\n",
    "disease_rate_steps = [0.0025, 0.005, 0.01, 0.02, 0.04]\n",
    "simulaciones = np.empty((len(N_total_steps),len(disease_rate_steps)), dtype=object)"
   ]
  },
  {
   "cell_type": "code",
   "execution_count": 34,
   "metadata": {},
   "outputs": [
    {
     "name": "stderr",
     "output_type": "stream",
     "text": [
      "100%|██████████| 7/7 [00:00<00:00,  8.19it/s]\n",
      "100%|██████████| 7/7 [00:00<00:00, 30.11it/s]\n",
      "100%|██████████| 7/7 [00:00<00:00, 33.02it/s]\n",
      "100%|██████████| 7/7 [00:00<00:00, 36.68it/s]\n",
      "100%|██████████| 7/7 [00:00<00:00, 40.30it/s]\n",
      "100%|██████████| 5/5 [00:01<00:00,  2.97it/s]\n"
     ]
    }
   ],
   "source": [
    "for idx_D, D in enumerate(tqdm(disease_rate_steps)):\n",
    "    for idx_N, N in enumerate(tqdm(N_total_steps)):\n",
    "        x0 = np.array([0., 0., False])\n",
    "        num_cel = 1*(10**3) #Cantidad de personas que se estan simulando\n",
    "        celulas = np.array([Estado_celula(x0,np.arange(0.,tiempo_vida_maximo,1.), N,D ) for i in range(num_cel)])\n",
    "        simulaciones[idx_N][idx_D] = celulas"
   ]
  },
  {
   "cell_type": "code",
   "execution_count": 384,
   "metadata": {},
   "outputs": [
    {
     "name": "stderr",
     "output_type": "stream",
     "text": [
      " 31%|███       | 23/75 [00:02<00:05,  9.29it/s]\n"
     ]
    },
    {
     "ename": "KeyboardInterrupt",
     "evalue": "",
     "output_type": "error",
     "traceback": [
      "\u001b[0;31m---------------------------------------------------------------------------\u001b[0m",
      "\u001b[0;31mKeyboardInterrupt\u001b[0m                         Traceback (most recent call last)",
      "\u001b[0;32m/var/folders/b8/c7tcpgms33l8z7x93t10121w0000gn/T/ipykernel_78018/844105218.py\u001b[0m in \u001b[0;36m<module>\u001b[0;34m\u001b[0m\n\u001b[1;32m      6\u001b[0m \u001b[0;34m\u001b[0m\u001b[0m\n\u001b[1;32m      7\u001b[0m         \u001b[0;32mfor\u001b[0m \u001b[0midx\u001b[0m\u001b[0;34m,\u001b[0m \u001b[0medad\u001b[0m \u001b[0;32min\u001b[0m \u001b[0menumerate\u001b[0m\u001b[0;34m(\u001b[0m\u001b[0mtqdm\u001b[0m\u001b[0;34m(\u001b[0m\u001b[0mrango_edades\u001b[0m\u001b[0;34m)\u001b[0m\u001b[0;34m)\u001b[0m\u001b[0;34m:\u001b[0m\u001b[0;34m\u001b[0m\u001b[0;34m\u001b[0m\u001b[0m\n\u001b[0;32m----> 8\u001b[0;31m             \u001b[0mcelulas_divided\u001b[0m \u001b[0;34m=\u001b[0m \u001b[0mnp\u001b[0m\u001b[0;34m.\u001b[0m\u001b[0mfloor\u001b[0m\u001b[0;34m(\u001b[0m\u001b[0msimulaciones\u001b[0m\u001b[0;34m[\u001b[0m\u001b[0mi\u001b[0m\u001b[0;34m]\u001b[0m\u001b[0;34m[\u001b[0m\u001b[0mj\u001b[0m\u001b[0;34m]\u001b[0m\u001b[0;34m[\u001b[0m\u001b[0;34m:\u001b[0m\u001b[0;34m,\u001b[0m \u001b[0;34m:\u001b[0m\u001b[0;34m,\u001b[0m \u001b[0;36m0\u001b[0m\u001b[0;34m]\u001b[0m\u001b[0;34m)\u001b[0m\u001b[0;34m\u001b[0m\u001b[0;34m\u001b[0m\u001b[0m\n\u001b[0m\u001b[1;32m      9\u001b[0m \u001b[0;34m\u001b[0m\u001b[0m\n\u001b[1;32m     10\u001b[0m             \u001b[0mindices\u001b[0m \u001b[0;34m=\u001b[0m \u001b[0mnp\u001b[0m\u001b[0;34m.\u001b[0m\u001b[0mlogical_and\u001b[0m\u001b[0;34m(\u001b[0m\u001b[0mcelulas_divided\u001b[0m \u001b[0;34m==\u001b[0m \u001b[0mfloat\u001b[0m\u001b[0;34m(\u001b[0m\u001b[0medad\u001b[0m\u001b[0;34m)\u001b[0m\u001b[0;34m,\u001b[0m \u001b[0;32mTrue\u001b[0m\u001b[0;34m)\u001b[0m\u001b[0;34m\u001b[0m\u001b[0;34m\u001b[0m\u001b[0m\n",
      "\u001b[0;31mKeyboardInterrupt\u001b[0m: "
     ]
    }
   ],
   "source": [
    "average_experiments = np.empty((len(N_total_steps),len(disease_rate_steps)), dtype=object)\n",
    "for i in range(len(N_total_steps)):\n",
    "    for j in range(len(disease_rate_steps)):\n",
    "        rango_edades = np.arange(0, 150, 2)\n",
    "        behaviour_frailty = np.empty_like(rango_edades, dtype=object)\n",
    "\n",
    "        for idx, edad in enumerate(tqdm(rango_edades)):\n",
    "            celulas_divided = np.floor(simulaciones[i][j][:, :, 0])\n",
    "            \n",
    "            indices = np.logical_and(celulas_divided == float(edad), True)\n",
    "            valores = simulaciones[i][j][indices, 1] \n",
    "            behaviour_frailty[idx] = valores\n",
    "        average_experiments[i][j] = behaviour_frailty"
   ]
  },
  {
   "cell_type": "code",
   "execution_count": 419,
   "metadata": {},
   "outputs": [
    {
     "name": "stderr",
     "output_type": "stream",
     "text": [
      "100%|██████████| 75/75 [00:08<00:00,  8.98it/s]\n",
      "100%|██████████| 75/75 [00:07<00:00,  9.66it/s]\n",
      "100%|██████████| 75/75 [00:06<00:00, 10.99it/s]\n",
      "100%|██████████| 75/75 [00:09<00:00,  8.31it/s]\n",
      "100%|██████████| 75/75 [00:12<00:00,  6.14it/s]\n",
      "100%|██████████| 75/75 [00:08<00:00,  8.97it/s]\n",
      "100%|██████████| 75/75 [00:06<00:00, 11.26it/s]\n",
      "100%|██████████| 75/75 [00:06<00:00, 11.89it/s]\n",
      "100%|██████████| 75/75 [00:09<00:00,  7.92it/s]\n",
      "100%|██████████| 75/75 [00:06<00:00, 12.47it/s]\n",
      "100%|██████████| 75/75 [00:06<00:00, 11.84it/s]\n",
      "100%|██████████| 75/75 [17:40<00:00, 14.13s/it] \n",
      "100%|██████████| 75/75 [00:06<00:00, 10.80it/s]\n",
      "100%|██████████| 75/75 [04:38<00:00,  3.71s/it]\n",
      "100%|██████████| 75/75 [00:10<00:00,  7.31it/s]\n",
      "100%|██████████| 75/75 [34:27<00:00, 27.57s/it]    \n",
      "100%|██████████| 75/75 [00:06<00:00, 11.31it/s]\n",
      "100%|██████████| 75/75 [00:07<00:00,  9.64it/s]\n",
      " 73%|███████▎  | 55/75 [17:02<00:06,  3.13it/s]   "
     ]
    },
    {
     "ename": "",
     "evalue": "",
     "output_type": "error",
     "traceback": [
      "\u001b[1;31mThe Kernel crashed while executing code in the the current cell or a previous cell. Please review the code in the cell(s) to identify a possible cause of the failure. Click <a href='https://aka.ms/vscodeJupyterKernelCrash'>here</a> for more info. View Jupyter <a href='command:jupyter.viewOutput'>log</a> for further details."
     ]
    },
    {
     "ename": "",
     "evalue": "",
     "output_type": "error",
     "traceback": [
      "\u001b[1;31mCanceled future for execute_request message before replies were done"
     ]
    }
   ],
   "source": [
    "import numpy as np\n",
    "from tqdm import tqdm\n",
    "import bisect\n",
    "\n",
    "average_experiments = np.empty((len(N_total_steps), len(disease_rate_steps)), dtype=object)\n",
    "\n",
    "for i in range(len(N_total_steps)):\n",
    "    for j in range(len(disease_rate_steps)):\n",
    "        rango_edades = np.arange(0, 150, 2)\n",
    "        behaviour_frailty = np.empty_like(rango_edades, dtype=object)\n",
    "\n",
    "        for idx, edad in enumerate(tqdm(rango_edades)):\n",
    "            celulas_divided = np.floor(simulaciones[i][j][:, :, 0])\n",
    "            indice_menor = bisect.bisect_left(celulas_divided.ravel(), float(edad))\n",
    "            \n",
    "            if indice_menor > 0:\n",
    "                coord_menor = np.unravel_index(indice_menor - 1, celulas_divided.shape)\n",
    "                valor_menor = celulas_divided[coord_menor]\n",
    "                indices = celulas_divided == valor_menor\n",
    "                valores = simulaciones[i][j][indices, 1]\n",
    "                behaviour_frailty[idx] = valores\n",
    "\n",
    "        average_experiments[i][j] = behaviour_frailty"
   ]
  },
  {
   "cell_type": "code",
   "execution_count": 227,
   "metadata": {},
   "outputs": [
    {
     "name": "stderr",
     "output_type": "stream",
     "text": [
      "100%|██████████| 5/5 [00:00<00:00, 30.31it/s]\n",
      "100%|██████████| 5/5 [00:00<00:00, 30.99it/s]\n",
      "100%|██████████| 5/5 [00:00<00:00, 25.96it/s]\n",
      "100%|██████████| 5/5 [00:00<00:00, 22.88it/s]\n",
      "100%|██████████| 5/5 [00:00<00:00, 24.05it/s]\n",
      "100%|██████████| 5/5 [00:00<00:00, 25.77it/s]\n",
      "100%|██████████| 5/5 [00:00<00:00, 28.22it/s]\n"
     ]
    }
   ],
   "source": [
    "frailty_average = np.empty((len(N_total_steps),len(disease_rate_steps)), dtype=object)\n",
    "for i in range(len(N_total_steps)):\n",
    "    for j in tqdm(range(len(disease_rate_steps))):\n",
    "        informacion = average_experiments[i][j]\n",
    "        promedio = np.empty((len(informacion)), dtype=float)\n",
    "        for k in range(len(informacion)):\n",
    "            promedio[k] = np.mean(informacion[k])\n",
    "        frailty_average[i][j]= promedio"
   ]
  },
  {
   "cell_type": "code",
   "execution_count": 283,
   "metadata": {},
   "outputs": [
    {
     "data": {
      "text/plain": [
       "(array([0.02106263, 0.11789419, 0.35156217, 0.79345334, 1.4336725 ,\n",
       "        2.56893417, 2.68838332, 2.14457164, 0.79203974, 0.06403605]),\n",
       " array([0.06666667, 0.15777778, 0.24888889, 0.34      , 0.43111111,\n",
       "        0.52222222, 0.61333333, 0.70444444, 0.79555556, 0.88666667,\n",
       "        0.97777778]),\n",
       " [<matplotlib.patches.Polygon at 0x7faae97fda00>])"
      ]
     },
     "execution_count": 283,
     "metadata": {},
     "output_type": "execute_result"
    },
    {
     "data": {
      "image/png": "[encoded data removed]",
      "text/plain": [
       "<Figure size 864x720 with 1 Axes>"
      ]
     },
     "metadata": {
      "needs_background": "light"
     },
     "output_type": "display_data"
    }
   ],
   "source": [
    "plt.figure(figsize=(12,10))\n",
    "#plt.hist(average_experiments[0][0][20]/N_total_steps[0], density=True,  histtype=u'step', bins = 7)\n",
    "#plt.hist(average_experiments[1][0][20]/N_total_steps[1], density=True,  histtype=u'step', bins = 10)\n",
    "plt.hist(average_experiments[2][0][30]/N_total_steps[2], density=True,  histtype=u'step')\n",
    "plt.hist(average_experiments[3][0][30]/N_total_steps[3], density=True,  histtype=u'step')\n",
    "plt.hist(average_experiments[4][0][30]/N_total_steps[4], density=True,  histtype=u'step')\n",
    "plt.hist(average_experiments[5][0][30]/N_total_steps[5], density=True,  histtype=u'step')\n",
    "plt.hist(average_experiments[6][0][30]/N_total_steps[6], density=True,  histtype=u'step')"
   ]
  },
  {
   "cell_type": "code",
   "execution_count": 292,
   "metadata": {},
   "outputs": [
    {
     "data": {
      "text/plain": [
       "13941"
      ]
     },
     "execution_count": 292,
     "metadata": {},
     "output_type": "execute_result"
    }
   ],
   "source": []
  },
  {
   "cell_type": "code",
   "execution_count": 293,
   "metadata": {},
   "outputs": [],
   "source": [
    "celulas_divided = np.floor(simulaciones[i][j][:, :, 0])"
   ]
  },
  {
   "cell_type": "code",
   "execution_count": 298,
   "metadata": {},
   "outputs": [
    {
     "data": {
      "text/plain": [
       "array([0.000e+00, 2.000e+00, 4.000e+00, 6.000e+00, 9.000e+00, 1.000e+01,\n",
       "       1.200e+01, 1.400e+01, 1.600e+01, 1.800e+01, 2.000e+01, 2.200e+01,\n",
       "       2.500e+01, 2.600e+01, 2.900e+01, 3.100e+01, 3.400e+01, 3.400e+01,\n",
       "       3.700e+01, 4.200e+01, 4.200e+01, 4.200e+01, 4.400e+01, 5.600e+01,\n",
       "       5.600e+01, 5.600e+01, 5.600e+01, 5.600e+01, 5.600e+01, 2.759e+03,\n",
       "       0.000e+00, 0.000e+00, 0.000e+00, 0.000e+00, 0.000e+00, 0.000e+00,\n",
       "       0.000e+00, 0.000e+00, 0.000e+00, 0.000e+00, 0.000e+00, 0.000e+00,\n",
       "       0.000e+00, 0.000e+00, 0.000e+00, 0.000e+00, 0.000e+00, 0.000e+00,\n",
       "       0.000e+00, 0.000e+00, 0.000e+00, 0.000e+00, 0.000e+00, 0.000e+00,\n",
       "       0.000e+00, 0.000e+00, 0.000e+00, 0.000e+00, 0.000e+00, 0.000e+00,\n",
       "       0.000e+00, 0.000e+00, 0.000e+00, 0.000e+00, 0.000e+00, 0.000e+00,\n",
       "       0.000e+00, 0.000e+00, 0.000e+00, 0.000e+00, 0.000e+00, 0.000e+00,\n",
       "       0.000e+00, 0.000e+00, 0.000e+00, 0.000e+00, 0.000e+00, 0.000e+00,\n",
       "       0.000e+00, 0.000e+00, 0.000e+00, 0.000e+00, 0.000e+00, 0.000e+00,\n",
       "       0.000e+00, 0.000e+00, 0.000e+00, 0.000e+00, 0.000e+00, 0.000e+00,\n",
       "       0.000e+00, 0.000e+00, 0.000e+00, 0.000e+00, 0.000e+00, 0.000e+00,\n",
       "       0.000e+00, 0.000e+00, 0.000e+00, 0.000e+00])"
      ]
     },
     "execution_count": 298,
     "metadata": {},
     "output_type": "execute_result"
    }
   ],
   "source": [
    "celulas_divided[0]"
   ]
  },
  {
   "cell_type": "code",
   "execution_count": 114,
   "metadata": {},
   "outputs": [
    {
     "name": "stderr",
     "output_type": "stream",
     "text": [
      "100%|██████████| 90/90 [01:03<00:00,  1.41it/s]\n"
     ]
    }
   ],
   "source": [
    "N_total = 90\n",
    "pasos_N = np.arange(0,N_total,1)\n",
    "promedios_tiempos = []\n",
    "\n",
    "\n",
    "tiempo_vida_maximo = 120            #Para que los resultados obtenidos se encuentren ligados a realidad biologica\n",
    "alpha_damage_propagation = 0.062    #Tasa de propagacion de daño\n",
    "coupling_factor = 0.089             #Factor de acoplamiento entre frailty index y gompertz\n",
    "mortality_rate = 4.3*(10**(-4))     #Tasa de mortalidad\n",
    "disease_rate = 0.01\n",
    "\n",
    "for N in tqdm(pasos_N):\n",
    "    tiempos = []\n",
    "    for i in range(100000):\n",
    "        s_1 =  ((N_total-N)/(N_total))*(alpha_damage_propagation*N + disease_rate*N_total)\n",
    "        s_2 = mortality_rate*((N/N_total)**(coupling_factor/alpha_damage_propagation))\n",
    "        S_T = s_1 + s_2 \n",
    "\n",
    "        τ = (-1/S_T)*np.log(np.random.rand())\n",
    "        tiempos.append(τ)\n",
    "    promedios_tiempos.append(np.mean(tiempos))"
   ]
  },
  {
   "cell_type": "code",
   "execution_count": 115,
   "metadata": {},
   "outputs": [
    {
     "data": {
      "text/plain": [
       "[<matplotlib.lines.Line2D at 0x7fd7702677c0>]"
      ]
     },
     "execution_count": 115,
     "metadata": {},
     "output_type": "execute_result"
    },
    {
     "data": {
      "image/png": "[encoded data removed]",
      "text/plain": [
       "<Figure size 432x288 with 1 Axes>"
      ]
     },
     "metadata": {
      "needs_background": "light"
     },
     "output_type": "display_data"
    }
   ],
   "source": [
    "plt.plot(promedios_tiempos)"
   ]
  }
 ],
 "metadata": {
  "kernelspec": {
   "display_name": "base",
   "language": "python",
   "name": "python3"
  },
  "language_info": {
   "codemirror_mode": {
    "name": "ipython",
    "version": 3
   },
   "file_extension": ".py",
   "mimetype": "text/x-python",
   "name": "python",
   "nbconvert_exporter": "python",
   "pygments_lexer": "ipython3",
   "version": "3.9.18"
  },
  "orig_nbformat": 4,
  "vscode": {
   "interpreter": {
    "hash": "6bab567639283c4b3d22d2753e8a097080e05a5a079488862022a8a434ea5858"
   }
  }
 },
 "nbformat": 4,
 "nbformat_minor": 2
}
