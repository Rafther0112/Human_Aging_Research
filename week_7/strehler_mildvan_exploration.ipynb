{
 "cells": [
  {
   "cell_type": "code",
   "execution_count": 47,
   "metadata": {},
   "outputs": [],
   "source": [
    "import numpy as np\n",
    "import matplotlib.pyplot as plt\n",
    "from tqdm import tqdm\n",
    "from numba import jit,njit,float64,int32\n",
    "import numba as nb\n",
    "import pandas as pd\n",
    "from derivative import dxdt"
   ]
  },
  {
   "attachments": {},
   "cell_type": "markdown",
   "metadata": {},
   "source": [
    "# Parameters"
   ]
  },
  {
   "cell_type": "code",
   "execution_count": 72,
   "metadata": {},
   "outputs": [],
   "source": [
    "tiempo_vida_inicial = 20\n",
    "tiempo_vida_maximo = 150            #Para que los resultados obtenidos se encuentren ligados a realidad biologica\n",
    "pasos_integracion = 150             #Definicion de los pasos de integracion de algoritmo   #Tasa de propagacion de daño\n",
    "coupling_factor = 0.089             #Factor de acoplamiento entre frailty index y gompertz\n",
    "mortality_rate = 4.3*(10**(-2.3))     #Tasa de mortalidad"
   ]
  },
  {
   "attachments": {},
   "cell_type": "markdown",
   "metadata": {},
   "source": [
    "# Gillespie"
   ]
  },
  {
   "cell_type": "code",
   "execution_count": 17,
   "metadata": {},
   "outputs": [],
   "source": [
    "@njit()\n",
    "def Gillespie(trp0,tmax, N_total, disease_rate):\n",
    "    \"\"\"\n",
    "    Esta funcion se emplea solamente para hacer la evolución de un paso individual en la celula. Evoluciona no un paso temporal, \n",
    "    pero si temporalmente la cantidad de veces que pueda evolucionar antes del tmax en una corrida\n",
    "    \"\"\"\n",
    "    t,N, died =trp0 \n",
    "\n",
    "    while t < tmax and not died :\n",
    "        s_1 =  ((N_total-N)/(N_total))*(alpha_damage_propagation*N + disease_rate*N_total)\n",
    "        s_2 = mortality_rate*((N/N_total)**(coupling_factor/alpha_damage_propagation))\n",
    "        S_T = s_1 + s_2 \n",
    "\n",
    "        τ = (-1/S_T)*np.log(np.random.rand())\n",
    "        x = np.random.rand()\n",
    "\n",
    "        if x <= (s_1)/S_T:\n",
    "            N += 1\n",
    "        else: \n",
    "            died = True\n",
    "            break\n",
    "        t+=τ\n",
    "    return np.array([t,N, died]) \n",
    "@njit()\n",
    "def Estado_celula(X0,tiempos, N_total, disease_rate):\n",
    "    \n",
    "    X = np.empty((len(tiempos),len(X0)))\n",
    "    X[:] = np.nan\n",
    "    X[0] = X0\n",
    "    \n",
    "    for i in range(1,len(tiempos)):\n",
    "        X[i] = Gillespie(X[i-1],tiempos[i], N_total, disease_rate)\n",
    "        if X[i][2]:\n",
    "            break\n",
    "    return X"
   ]
  },
  {
   "cell_type": "code",
   "execution_count": 168,
   "metadata": {},
   "outputs": [
    {
     "name": "stderr",
     "output_type": "stream",
     "text": [
      "100%|██████████| 1/1 [00:07<00:00,  7.11s/it]\n",
      "100%|██████████| 1/1 [00:06<00:00,  6.72s/it]\n",
      "100%|██████████| 1/1 [00:05<00:00,  5.89s/it]\n",
      "100%|██████████| 3/3 [00:19<00:00,  6.58s/it]\n"
     ]
    }
   ],
   "source": [
    "N_total_steps = [300]\n",
    "disease_rate_steps = [0.001, 0.001*10, 0.001*100]\n",
    "simulaciones = np.empty((len(N_total_steps),len(disease_rate_steps)), dtype=object)\n",
    "\n",
    "alpha_damage_propagation = 0.05\n",
    "condicion_inicial = 0.02\n",
    "for idx_D, D in enumerate(tqdm(disease_rate_steps)):\n",
    "    for idx_N, N in enumerate(tqdm(N_total_steps)):\n",
    "        x0 = np.array([20., int(300*condicion_inicial), False])    #Condicion Inicial\n",
    "        num_cel = 1*(10**5) #Cantidad de personas que se estan simulando\n",
    "        celulas = np.array([Estado_celula(x0,np.arange(tiempo_vida_inicial,tiempo_vida_maximo,1.), N,D ) for i in range(num_cel)])\n",
    "        simulaciones[idx_N][idx_D] = celulas"
   ]
  },
  {
   "cell_type": "code",
   "execution_count": 169,
   "metadata": {},
   "outputs": [
    {
     "name": "stderr",
     "output_type": "stream",
     "text": [
      "100%|██████████| 130/130 [00:00<00:00, 223.73it/s]\n",
      "100%|██████████| 130/130 [00:00<00:00, 210.84it/s]\n",
      " 71%|███████   | 92/130 [00:00<00:00, 235.39it/s]/var/folders/b8/c7tcpgms33l8z7x93t10121w0000gn/T/ipykernel_24944/2815222791.py:13: RuntimeWarning: Mean of empty slice\n",
      "  promedio1 = np.nanmean(simulaciones[i][j][:,k,1])/N_total_steps[i]\n",
      "100%|██████████| 130/130 [00:00<00:00, 211.64it/s]\n"
     ]
    }
   ],
   "source": [
    "frailty_index_promedio = np.empty((len(simulaciones), len(simulaciones[0])), dtype = object)\n",
    "gompertz_law_promedio = np.empty((len(simulaciones), len(simulaciones[0])), dtype = object)\n",
    "for i in range(len(frailty_index_promedio)):\n",
    "    for j in range(len(frailty_index_promedio[0])):\n",
    "        curva_promedio_stochastic_model = np.zeros((len(simulaciones[i][j][0])))\n",
    "        curva_promedio_gompertz = np.zeros((len(simulaciones[i][j][0])))\n",
    "        suma = 0\n",
    "        for k in tqdm(np.arange((len(simulaciones[i][j][0])))):\n",
    "            curva_promedio_gompertz[k] = suma\n",
    "            muertos = (np.nansum(simulaciones[i][j][:,k,2]))\n",
    "            suma += muertos\n",
    "            \n",
    "            promedio1 = np.nanmean(simulaciones[i][j][:,k,1])/N_total_steps[i]\n",
    "            curva_promedio_stochastic_model[k] = promedio1\n",
    "        gompertz_law_promedio[i][j] = curva_promedio_gompertz\n",
    "        frailty_index_promedio[i][j] = curva_promedio_stochastic_model\n",
    "\n",
    "    "
   ]
  },
  {
   "cell_type": "code",
   "execution_count": 170,
   "metadata": {},
   "outputs": [
    {
     "data": {
      "text/plain": [
       "array([ 20.,  21.,  22.,  23.,  24.,  25.,  26.,  27.,  28.,  29.,  30.,\n",
       "        31.,  32.,  33.,  34.,  35.,  36.,  37.,  38.,  39.,  40.,  41.,\n",
       "        42.,  43.,  44.,  45.,  46.,  47.,  48.,  49.,  50.,  51.,  52.,\n",
       "        53.,  54.,  55.,  56.,  57.,  58.,  59.,  60.,  61.,  62.,  63.,\n",
       "        64.,  65.,  66.,  67.,  68.,  69.,  70.,  71.,  72.,  73.,  74.,\n",
       "        75.,  76.,  77.,  78.,  79.,  80.,  81.,  82.,  83.,  84.,  85.,\n",
       "        86.,  87.,  88.,  89.,  90.,  91.,  92.,  93.,  94.,  95.,  96.,\n",
       "        97.,  98.,  99., 100., 101., 102., 103., 104., 105., 106., 107.,\n",
       "       108., 109., 110., 111., 112., 113., 114., 115., 116., 117., 118.,\n",
       "       119., 120., 121., 122., 123., 124., 125., 126., 127., 128., 129.,\n",
       "       130., 131., 132., 133., 134., 135., 136., 137., 138., 139., 140.,\n",
       "       141., 142., 143., 144., 145., 146., 147., 148., 149.])"
      ]
     },
     "execution_count": 170,
     "metadata": {},
     "output_type": "execute_result"
    }
   ],
   "source": [
    "np.arange(tiempo_vida_inicial,tiempo_vida_maximo,1.)"
   ]
  },
  {
   "attachments": {},
   "cell_type": "markdown",
   "metadata": {},
   "source": [
    "# Strehler-Mildvan parameters"
   ]
  },
  {
   "cell_type": "code",
   "execution_count": 171,
   "metadata": {},
   "outputs": [
    {
     "name": "stderr",
     "output_type": "stream",
     "text": [
      "/var/folders/b8/c7tcpgms33l8z7x93t10121w0000gn/T/ipykernel_24944/4093834566.py:9: RuntimeWarning: divide by zero encountered in true_divide\n",
      "  beta_values = derivative_process/data\n",
      "/var/folders/b8/c7tcpgms33l8z7x93t10121w0000gn/T/ipykernel_24944/4093834566.py:9: RuntimeWarning: invalid value encountered in true_divide\n",
      "  beta_values = derivative_process/data\n"
     ]
    }
   ],
   "source": [
    "t = np.arange(tiempo_vida_inicial,tiempo_vida_maximo,1.)\n",
    "strehler_mildvan_correlation = np.empty((len(simulaciones), len(simulaciones[0])), dtype = object)\n",
    "\n",
    "for i in range(len(frailty_index_promedio)):\n",
    "    for j in range(len(frailty_index_promedio[0])):\n",
    "        valores_beta_R = np.empty((2), dtype = object)\n",
    "        data = gompertz_law_promedio[i][j]\n",
    "        derivative_process = dxdt(data, t, kind=\"finite_difference\", k=1)\n",
    "        beta_values = derivative_process/data\n",
    "        R_values = data/np.e**(beta_values*t)\n",
    "\n",
    "        valores_beta_R[0] = beta_values\n",
    "        valores_beta_R[1] = R_values\n",
    "\n",
    "        strehler_mildvan_correlation[i][j] = valores_beta_R\n"
   ]
  },
  {
   "cell_type": "code",
   "execution_count": 172,
   "metadata": {},
   "outputs": [
    {
     "data": {
      "image/png": "[encoded data removed]",
      "text/plain": [
       "<Figure size 720x504 with 1 Axes>"
      ]
     },
     "metadata": {
      "needs_background": "light"
     },
     "output_type": "display_data"
    }
   ],
   "source": [
    "plt.figure(figsize=(10,7))\n",
    "plt.title(r\"Strehler-Mildvan Correlation\", fontsize = 16)\n",
    "inicial = 0\n",
    "final = -1\n",
    "plt.scatter(strehler_mildvan_correlation[0][0][0][inicial:final], strehler_mildvan_correlation[0][0][1][inicial:final], color = \"black\", label = \"\")\n",
    "plt.scatter(strehler_mildvan_correlation[0][1][0][inicial:final], strehler_mildvan_correlation[0][1][1][inicial:final], color = \"red\", label = \"\")\n",
    "plt.scatter(strehler_mildvan_correlation[0][2][0][inicial:final], strehler_mildvan_correlation[0][2][1][inicial:final], color = \"deepskyblue\")\n",
    "\n",
    "plt.xlabel(r\"Beta\", fontsize = 16)\n",
    "plt.ylabel(r\"Ln($R_0$)\", fontsize = 16)\n",
    "plt.yscale(\"log\")"
   ]
  },
  {
   "cell_type": "code",
   "execution_count": 173,
   "metadata": {},
   "outputs": [
    {
     "data": {
      "image/png": "[encoded data removed]",
      "text/plain": [
       "<Figure size 432x288 with 1 Axes>"
      ]
     },
     "metadata": {
      "needs_background": "light"
     },
     "output_type": "display_data"
    }
   ],
   "source": [
    "plt.plot(gompertz_law_promedio[0][0])\n",
    "plt.plot(gompertz_law_promedio[0][1])\n",
    "plt.plot(gompertz_law_promedio[0][2])\n",
    "plt.yscale(\"log\")"
   ]
  },
  {
   "cell_type": "code",
   "execution_count": null,
   "metadata": {},
   "outputs": [],
   "source": []
  }
 ],
 "metadata": {
  "kernelspec": {
   "display_name": "base",
   "language": "python",
   "name": "python3"
  },
  "language_info": {
   "codemirror_mode": {
    "name": "ipython",
    "version": 3
   },
   "file_extension": ".py",
   "mimetype": "text/x-python",
   "name": "python",
   "nbconvert_exporter": "python",
   "pygments_lexer": "ipython3",
   "version": "3.9.7"
  },
  "orig_nbformat": 4,
  "vscode": {
   "interpreter": {
    "hash": "6bab567639283c4b3d22d2753e8a097080e05a5a079488862022a8a434ea5858"
   }
  }
 },
 "nbformat": 4,
 "nbformat_minor": 2
}
