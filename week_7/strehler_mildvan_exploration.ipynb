{
 "cells": [
  {
   "cell_type": "code",
   "execution_count": 2,
   "metadata": {},
   "outputs": [],
   "source": [
    "import numpy as np\n",
    "import matplotlib.pyplot as plt\n",
    "from tqdm import tqdm\n",
    "from numba import jit,njit,float64,int32\n",
    "import numba as nb\n",
    "import pandas as pd\n",
    "from derivative import dxdt"
   ]
  },
  {
   "attachments": {},
   "cell_type": "markdown",
   "metadata": {},
   "source": [
    "# Parameters"
   ]
  },
  {
   "cell_type": "code",
   "execution_count": 4,
   "metadata": {},
   "outputs": [],
   "source": [
    "tiempo_vida_inicial = 20\n",
    "tiempo_vida_maximo = 150            #Para que los resultados obtenidos se encuentren ligados a realidad biologica\n",
    "pasos_integracion = tiempo_vida_maximo- tiempo_vida_inicial           #Definicion de los pasos de integracion de algoritmo   #Tasa de propagacion de daño\n",
    "coupling_factor = 0.089             #Factor de acoplamiento entre frailty index y gompertz\n",
    "mortality_rate = 4.3*(10**(-2.3))     #Tasa de mortalidad\n",
    "condicion_inicial = 0.02"
   ]
  },
  {
   "attachments": {},
   "cell_type": "markdown",
   "metadata": {},
   "source": [
    "# Functions"
   ]
  },
  {
   "cell_type": "code",
   "execution_count": 26,
   "metadata": {},
   "outputs": [],
   "source": [
    "def f(x, alpha_damage_propagation, disease_rate, t=None):\n",
    "    return (1-x)*(alpha_damage_propagation*x + disease_rate)"
   ]
  },
  {
   "cell_type": "code",
   "execution_count": 27,
   "metadata": {},
   "outputs": [],
   "source": [
    "def Runke_Kutta_Method(temporal_evolution:list, disease_rate):\n",
    "    x = condicion_inicial                                        #Initial condition     \n",
    "    frailty_index = np.empty((len(temporal_evolution)))\n",
    "    for index, t in enumerate(temporal_evolution):\n",
    "        frailty_index[index] = x\n",
    "        k1 = h*f(x, alpha_damage_propagation, disease_rate, t=t)\n",
    "        k2 = h*f(x+0.5*k1, alpha_damage_propagation, disease_rate, t=t +0.5*h)\n",
    "        x += k2\n",
    "\n",
    "    gompertz_law = mortality_rate*(frailty_index**(coupling_factor/alpha_damage_propagation))\n",
    "    return frailty_index, gompertz_law, temporal_evolution"
   ]
  },
  {
   "attachments": {},
   "cell_type": "markdown",
   "metadata": {},
   "source": [
    "# Gillespie"
   ]
  },
  {
   "cell_type": "code",
   "execution_count": 5,
   "metadata": {},
   "outputs": [],
   "source": [
    "@njit()\n",
    "def Gillespie(trp0,tmax, N_total, disease_rate):\n",
    "    \"\"\"\n",
    "    Esta funcion se emplea solamente para hacer la evolución de un paso individual en la celula. Evoluciona no un paso temporal, \n",
    "    pero si temporalmente la cantidad de veces que pueda evolucionar antes del tmax en una corrida\n",
    "    \"\"\"\n",
    "    t,N, died =trp0 \n",
    "\n",
    "    while t < tmax and not died :\n",
    "        s_1 =  ((N_total-N)/(N_total))*(alpha_damage_propagation*N + disease_rate*N_total)\n",
    "        s_2 = mortality_rate*((N/N_total)**(coupling_factor/alpha_damage_propagation))\n",
    "        S_T = s_1 + s_2 \n",
    "\n",
    "        τ = (-1/S_T)*np.log(np.random.rand())\n",
    "        x = np.random.rand()\n",
    "\n",
    "        if x <= (s_1)/S_T:\n",
    "            N += 1\n",
    "        else: \n",
    "            died = True\n",
    "            break\n",
    "        t+=τ\n",
    "    return np.array([t,N, died]) \n",
    "@njit()\n",
    "def Estado_celula(X0,tiempos, N_total, disease_rate):\n",
    "    \n",
    "    X = np.empty((len(tiempos),len(X0)))\n",
    "    X[:] = np.nan\n",
    "    X[0] = X0\n",
    "    \n",
    "    for i in range(1,len(tiempos)):\n",
    "        X[i] = Gillespie(X[i-1],tiempos[i], N_total, disease_rate)\n",
    "        if X[i][2]:\n",
    "            break\n",
    "    return X"
   ]
  },
  {
   "attachments": {},
   "cell_type": "markdown",
   "metadata": {},
   "source": [
    "# Stochastic Simulation"
   ]
  },
  {
   "cell_type": "code",
   "execution_count": 7,
   "metadata": {},
   "outputs": [
    {
     "name": "stderr",
     "output_type": "stream",
     "text": [
      "100%|██████████| 100000/100000 [00:05<00:00, 19437.02it/s]\n",
      "100%|██████████| 100000/100000 [00:05<00:00, 17759.23it/s]\n",
      "100%|██████████| 100000/100000 [00:06<00:00, 16088.29it/s]\n",
      "100%|██████████| 100000/100000 [00:06<00:00, 14829.26it/s]\n",
      "100%|██████████| 100000/100000 [00:07<00:00, 14008.02it/s]\n"
     ]
    }
   ],
   "source": [
    "N_total_steps = [200, 250, 300, 350, 400]\n",
    "disease_rate_steps = [0.001]\n",
    "simulaciones = np.empty((len(N_total_steps),len(disease_rate_steps)), dtype=object)\n",
    "\n",
    "alpha_damage_propagation = 0.05\n",
    "for idx_D, D in enumerate(disease_rate_steps):\n",
    "    for idx_N, N in enumerate(N_total_steps):\n",
    "        x0 = np.array([20., int(300*condicion_inicial), False])    #Condicion Inicial\n",
    "        num_cel = 1*(10**5) #Cantidad de personas que se estan simulando\n",
    "        celulas = np.array([Estado_celula(x0,np.arange(tiempo_vida_inicial,tiempo_vida_maximo,1.), N,D ) for i in tqdm(range(num_cel))])\n",
    "        simulaciones[idx_N][idx_D] = celulas"
   ]
  },
  {
   "cell_type": "code",
   "execution_count": 8,
   "metadata": {},
   "outputs": [
    {
     "name": "stderr",
     "output_type": "stream",
     "text": [
      "100%|██████████| 130/130 [00:00<00:00, 204.94it/s]\n",
      "100%|██████████| 130/130 [00:00<00:00, 197.17it/s]\n",
      "100%|██████████| 130/130 [00:00<00:00, 207.63it/s]\n",
      "100%|██████████| 130/130 [00:00<00:00, 194.06it/s]\n",
      "100%|██████████| 130/130 [00:00<00:00, 195.15it/s]\n"
     ]
    }
   ],
   "source": [
    "frailty_index_promedio = np.empty((len(simulaciones), len(simulaciones[0])), dtype = object)\n",
    "gompertz_law_promedio = np.empty((len(simulaciones), len(simulaciones[0])), dtype = object)\n",
    "for i in range(len(frailty_index_promedio)):\n",
    "    for j in range(len(frailty_index_promedio[0])):\n",
    "        curva_promedio_stochastic_model = np.zeros((len(simulaciones[i][j][0])))\n",
    "        curva_promedio_gompertz = np.zeros((len(simulaciones[i][j][0])))\n",
    "        suma = 0\n",
    "        for k in tqdm(np.arange((len(simulaciones[i][j][0])))):\n",
    "            curva_promedio_gompertz[k] = suma\n",
    "            muertos = (np.nansum(simulaciones[i][j][:,k,2]))\n",
    "            suma += muertos\n",
    "            \n",
    "            promedio1 = np.nanmean(simulaciones[i][j][:,k,1])/N_total_steps[i]\n",
    "            curva_promedio_stochastic_model[k] = promedio1\n",
    "        gompertz_law_promedio[i][j] = curva_promedio_gompertz\n",
    "        frailty_index_promedio[i][j] = curva_promedio_stochastic_model\n",
    "\n",
    "    "
   ]
  },
  {
   "attachments": {},
   "cell_type": "markdown",
   "metadata": {},
   "source": [
    "# Numerical Solution"
   ]
  },
  {
   "cell_type": "code",
   "execution_count": 28,
   "metadata": {},
   "outputs": [],
   "source": [
    "h = (tiempo_vida_maximo-tiempo_vida_inicial)/pasos_integracion                                         #Pasos de integracion\n",
    "temporal_evolution = np.arange(tiempo_vida_inicial,tiempo_vida_maximo,h) \n",
    "frailty_index_differential_equation,gompertz_law_differential_equation,temporal_evolution_differential_equation = Runke_Kutta_Method(temporal_evolution, disease_rate_steps[0])"
   ]
  },
  {
   "cell_type": "code",
   "execution_count": 83,
   "metadata": {},
   "outputs": [
    {
     "data": {
      "text/plain": [
       "[<matplotlib.lines.Line2D at 0x7fe30a048790>]"
      ]
     },
     "execution_count": 83,
     "metadata": {},
     "output_type": "execute_result"
    },
    {
     "data": {
      "image/png": "[encoded data removed]",
      "text/plain": [
       "<Figure size 432x288 with 1 Axes>"
      ]
     },
     "metadata": {
      "needs_background": "light"
     },
     "output_type": "display_data"
    }
   ],
   "source": [
    "plt.plot(gompertz_law_differential_equation*10)\n",
    "plt.plot(gompertz_law_promedio[4][0]/num_cel)\n",
    "#plt.yscale('log')\n",
    "\n"
   ]
  },
  {
   "attachments": {},
   "cell_type": "markdown",
   "metadata": {},
   "source": [
    "# Strehler-Mildvan parameters"
   ]
  },
  {
   "cell_type": "code",
   "execution_count": 9,
   "metadata": {},
   "outputs": [
    {
     "name": "stderr",
     "output_type": "stream",
     "text": [
      "/var/folders/b8/c7tcpgms33l8z7x93t10121w0000gn/T/ipykernel_44835/4093834566.py:9: RuntimeWarning: divide by zero encountered in true_divide\n",
      "  beta_values = derivative_process/data\n",
      "/var/folders/b8/c7tcpgms33l8z7x93t10121w0000gn/T/ipykernel_44835/4093834566.py:9: RuntimeWarning: invalid value encountered in true_divide\n",
      "  beta_values = derivative_process/data\n"
     ]
    }
   ],
   "source": [
    "t = np.arange(tiempo_vida_inicial,tiempo_vida_maximo,1.)\n",
    "strehler_mildvan_correlation = np.empty((len(simulaciones), len(simulaciones[0])), dtype = object)\n",
    "\n",
    "for i in range(len(frailty_index_promedio)):\n",
    "    for j in range(len(frailty_index_promedio[0])):\n",
    "        valores_beta_R = np.empty((2), dtype = object)\n",
    "        data = gompertz_law_promedio[i][j]\n",
    "        derivative_process = dxdt(data, t, kind=\"finite_difference\", k=1)\n",
    "        beta_values = derivative_process/data\n",
    "        R_values = data/np.e**(beta_values*t)\n",
    "\n",
    "        valores_beta_R[0] = beta_values\n",
    "        valores_beta_R[1] = R_values\n",
    "\n",
    "        strehler_mildvan_correlation[i][j] = valores_beta_R\n"
   ]
  },
  {
   "cell_type": "code",
   "execution_count": null,
   "metadata": {},
   "outputs": [],
   "source": [
    "data = gompertz_law_differential_equation\n",
    "derivative_process_numerical_solution = dxdt(data, t, kind=\"finite_difference\", k=1)\n",
    "beta_values = derivative_process/data"
   ]
  },
  {
   "cell_type": "code",
   "execution_count": 25,
   "metadata": {},
   "outputs": [
    {
     "data": {
      "text/plain": [
       "<matplotlib.legend.Legend at 0x7fe31b3bc2b0>"
      ]
     },
     "execution_count": 25,
     "metadata": {},
     "output_type": "execute_result"
    },
    {
     "data": {
      "image/png": "[encoded data removed]",
      "text/plain": [
       "<Figure size 720x504 with 1 Axes>"
      ]
     },
     "metadata": {
      "needs_background": "light"
     },
     "output_type": "display_data"
    }
   ],
   "source": [
    "plt.figure(figsize=(10,7))\n",
    "plt.title(r\"Strehler-Mildvan Correlation\", fontsize = 16)\n",
    "inicial = 0\n",
    "final = -1\n",
    "\n",
    "for i in range(len(frailty_index_promedio)):\n",
    "    for j in range(len(frailty_index_promedio[0])):\n",
    "        plt.scatter(strehler_mildvan_correlation[i][j][0][inicial:final], strehler_mildvan_correlation[i][j][1][inicial:final], label = f\"#N = {N_total_steps[i]} d = {disease_rate_steps[j]}\")\n",
    "\n",
    "plt.xlabel(r\"$\\beta$\", fontsize = 16)\n",
    "plt.ylabel(r\"Ln($R_0$)\", fontsize = 16)\n",
    "plt.yscale(\"log\")\n",
    "plt.legend()"
   ]
  },
  {
   "cell_type": "code",
   "execution_count": 173,
   "metadata": {},
   "outputs": [
    {
     "data": {
      "image/png": "[encoded data removed]",
      "text/plain": [
       "<Figure size 432x288 with 1 Axes>"
      ]
     },
     "metadata": {
      "needs_background": "light"
     },
     "output_type": "display_data"
    }
   ],
   "source": [
    "plt.plot(gompertz_law_promedio[0][0])\n",
    "plt.plot(gompertz_law_promedio[0][1])\n",
    "plt.plot(gompertz_law_promedio[0][2])\n",
    "plt.yscale(\"log\")"
   ]
  },
  {
   "cell_type": "code",
   "execution_count": null,
   "metadata": {},
   "outputs": [],
   "source": []
  }
 ],
 "metadata": {
  "kernelspec": {
   "display_name": "base",
   "language": "python",
   "name": "python3"
  },
  "language_info": {
   "codemirror_mode": {
    "name": "ipython",
    "version": 3
   },
   "file_extension": ".py",
   "mimetype": "text/x-python",
   "name": "python",
   "nbconvert_exporter": "python",
   "pygments_lexer": "ipython3",
   "version": "3.9.7"
  },
  "orig_nbformat": 4,
  "vscode": {
   "interpreter": {
    "hash": "6bab567639283c4b3d22d2753e8a097080e05a5a079488862022a8a434ea5858"
   }
  }
 },
 "nbformat": 4,
 "nbformat_minor": 2
}
