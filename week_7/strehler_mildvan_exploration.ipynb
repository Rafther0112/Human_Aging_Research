{
 "cells": [
  {
   "cell_type": "code",
   "execution_count": 3,
   "metadata": {},
   "outputs": [],
   "source": [
    "from derivative import dxdt\n",
    "import matplotlib.pyplot as plt\n",
    "import numpy as np\n",
    "\n",
    "t = np.linspace(0,2*np.pi,50)\n",
    "x = np.sin(t)\n",
    "\n",
    "# 1. Finite differences with central differencing using 3 points.\n",
    "result1 = dxdt(x, t, kind=\"finite_difference\", k=1)\n",
    "\n",
    "# 2. Savitzky-Golay using cubic polynomials to fit in a centered window of length 1\n",
    "result2 = dxdt(x, t, kind=\"savitzky_golay\", left=.5, right=.5, order=3)\n",
    "\n",
    "# 3. Spectral derivative\n",
    "result3 = dxdt(x, t, kind=\"spectral\")\n",
    "\n",
    "# 4. Spline derivative with smoothing set to 0.01\n",
    "result4 = dxdt(x, t, kind=\"spline\", s=1e-2)\n",
    "\n",
    "# 5. Total variational derivative with regularization set to 0.01\n",
    "result5 = dxdt(x, t, kind=\"trend_filtered\", order=0, alpha=1e-2)\n",
    "\n",
    "# 6. Kalman derivative with smoothing set to 1\n",
    "result6 = dxdt(x, t, kind=\"kalman\", alpha=1)\n",
    "\n",
    "# 7. Kernel derivative with smoothing set to 1\n",
    "result7 = dxdt(x, t, kind=\"kernel\", sigma=1, lmbd=.1, kernel=\"rbf\")"
   ]
  },
  {
   "cell_type": "code",
   "execution_count": null,
   "metadata": {},
   "outputs": [],
   "source": []
  }
 ],
 "metadata": {
  "kernelspec": {
   "display_name": "base",
   "language": "python",
   "name": "python3"
  },
  "language_info": {
   "codemirror_mode": {
    "name": "ipython",
    "version": 3
   },
   "file_extension": ".py",
   "mimetype": "text/x-python",
   "name": "python",
   "nbconvert_exporter": "python",
   "pygments_lexer": "ipython3",
   "version": "3.9.7"
  },
  "orig_nbformat": 4,
  "vscode": {
   "interpreter": {
    "hash": "6bab567639283c4b3d22d2753e8a097080e05a5a079488862022a8a434ea5858"
   }
  }
 },
 "nbformat": 4,
 "nbformat_minor": 2
}
